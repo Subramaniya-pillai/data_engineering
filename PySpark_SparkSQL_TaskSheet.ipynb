{
  "cells": [
    {
      "cell_type": "markdown",
      "metadata": {
        "id": "view-in-github",
        "colab_type": "text"
      },
      "source": [
        "<a href=\"https://colab.research.google.com/github/Subramaniya-pillai/data_engineering/blob/main/PySpark_SparkSQL_TaskSheet.ipynb\" target=\"_parent\"><img src=\"https://colab.research.google.com/assets/colab-badge.svg\" alt=\"Open In Colab\"/></a>"
      ]
    },
    {
      "cell_type": "code",
      "metadata": {
        "colab": {
          "base_uri": "https://localhost:8080/"
        },
        "id": "pJC808QLfc_v",
        "outputId": "80040e1b-d5ee-4322-e839-86152c119cdf"
      },
      "source": [
        "from pyspark.sql import SparkSession\n",
        "from pyspark.sql.functions import expr, when, col, year, lit, concat_ws, regexp_replace, to_date, datediff, udf\n",
        "from pyspark.sql.types import StringType\n",
        "\n",
        "spark = SparkSession.builder.appName(\"PracticeProject\").enableHiveSupport().getOrCreate()\n",
        "\n",
        "# Create schema if not exists\n",
        "spark.sql(\"CREATE DATABASE IF NOT EXISTS sales\")"
      ],
      "id": "pJC808QLfc_v",
      "execution_count": 1,
      "outputs": [
        {
          "output_type": "execute_result",
          "data": {
            "text/plain": [
              "DataFrame[]"
            ]
          },
          "metadata": {},
          "execution_count": 1
        }
      ]
    },
    {
      "cell_type": "code",
      "metadata": {
        "id": "s-AQ_Hqofc_y"
      },
      "source": [
        "# Updated Customers Data\n",
        "customers_data = [\n",
        "    (101, 'Mani', 'mani@gmail.com', 'Mumbai', '2022-05-10'),\n",
        "    (102, 'Saravana', 'saravana@yahoo.com', 'Delhi', '2023-01-15'),\n",
        "    (103, 'Mothesh', 'mothesh@hotmail.com', 'Bangalore', '2021-11-01'),\n",
        "    (104, 'Manoj', 'manoj@outlook.com', 'Hyderabad', '2020-07-22'),\n",
        "    (105, 'Jeeva', 'jeeva@gmail.com', 'Chennai', '2023-03-10'),\n",
        "]\n",
        "\n",
        "orders_data = [\n",
        "    (1, 101, 'Laptop', 'Electronics', 2, 50000.0, '2024-01-10'),\n",
        "    (2, 101, 'Mouse', 'Electronics', 1, 1200.0, '2024-01-15'),\n",
        "    (3, 102, 'Tablet', 'Electronics', 1, 20000.0, '2024-02-01'),\n",
        "    (4, 103, 'Bookshelf', 'Furniture', 1, 3500.0, '2024-02-10'),\n",
        "    (5, 104, 'Mixer', 'Appliances', 1, 5000.0, '2024-02-15'),\n",
        "    (6, 105, 'Notebook', 'Stationery', 5, 500.0, '2024-03-01'),\n",
        "    (7, 102, 'Phone', 'Electronics', 1, 30000.0, '2024-03-02'),\n",
        "]\n",
        "\n",
        "customers_df = spark.createDataFrame(customers_data, [\"CustomerID\", \"Name\", \"Email\", \"City\", \"SignupDate\"])\n",
        "orders_df = spark.createDataFrame(orders_data, [\"OrderID\", \"CustomerID\", \"Product\", \"Category\", \"Quantity\", \"Price\", \"OrderDate\"])\n",
        "\n",
        "# Save as Hive tables\n",
        "customers_df.write.mode(\"overwrite\").saveAsTable(\"sales.customers\")\n",
        "orders_df.write.mode(\"overwrite\").saveAsTable(\"sales.orders\")"
      ],
      "id": "s-AQ_Hqofc_y",
      "execution_count": 2,
      "outputs": []
    },
    {
      "cell_type": "code",
      "metadata": {
        "colab": {
          "base_uri": "https://localhost:8080/"
        },
        "id": "2-TEq-c0fc_y",
        "outputId": "4cf7e45b-494b-4f5a-db80-ce8ceae1a75f"
      },
      "source": [
        "# 1. Add TotalAmount column to orders_df\n",
        "orders_df = orders_df.withColumn(\"TotalAmount\", col(\"Quantity\") * col(\"Price\"))\n",
        "orders_df.show()"
      ],
      "id": "2-TEq-c0fc_y",
      "execution_count": 3,
      "outputs": [
        {
          "output_type": "stream",
          "name": "stdout",
          "text": [
            "+-------+----------+---------+-----------+--------+-------+----------+-----------+\n",
            "|OrderID|CustomerID|  Product|   Category|Quantity|  Price| OrderDate|TotalAmount|\n",
            "+-------+----------+---------+-----------+--------+-------+----------+-----------+\n",
            "|      1|       101|   Laptop|Electronics|       2|50000.0|2024-01-10|   100000.0|\n",
            "|      2|       101|    Mouse|Electronics|       1| 1200.0|2024-01-15|     1200.0|\n",
            "|      3|       102|   Tablet|Electronics|       1|20000.0|2024-02-01|    20000.0|\n",
            "|      4|       103|Bookshelf|  Furniture|       1| 3500.0|2024-02-10|     3500.0|\n",
            "|      5|       104|    Mixer| Appliances|       1| 5000.0|2024-02-15|     5000.0|\n",
            "|      6|       105| Notebook| Stationery|       5|  500.0|2024-03-01|     2500.0|\n",
            "|      7|       102|    Phone|Electronics|       1|30000.0|2024-03-02|    30000.0|\n",
            "+-------+----------+---------+-----------+--------+-------+----------+-----------+\n",
            "\n"
          ]
        }
      ]
    },
    {
      "cell_type": "code",
      "metadata": {
        "colab": {
          "base_uri": "https://localhost:8080/"
        },
        "id": "vi-tooyVfc_z",
        "outputId": "99265e1f-d739-4772-896c-7d70c3d5ce85"
      },
      "source": [
        "# 2. Filter orders with TotalAmount > 10000\n",
        "orders_df.filter(col(\"TotalAmount\") > 10000).show()"
      ],
      "id": "vi-tooyVfc_z",
      "execution_count": 4,
      "outputs": [
        {
          "output_type": "stream",
          "name": "stdout",
          "text": [
            "+-------+----------+-------+-----------+--------+-------+----------+-----------+\n",
            "|OrderID|CustomerID|Product|   Category|Quantity|  Price| OrderDate|TotalAmount|\n",
            "+-------+----------+-------+-----------+--------+-------+----------+-----------+\n",
            "|      1|       101| Laptop|Electronics|       2|50000.0|2024-01-10|   100000.0|\n",
            "|      3|       102| Tablet|Electronics|       1|20000.0|2024-02-01|    20000.0|\n",
            "|      7|       102|  Phone|Electronics|       1|30000.0|2024-03-02|    30000.0|\n",
            "+-------+----------+-------+-----------+--------+-------+----------+-----------+\n",
            "\n"
          ]
        }
      ]
    },
    {
      "cell_type": "code",
      "metadata": {
        "colab": {
          "base_uri": "https://localhost:8080/"
        },
        "id": "MljvA6eifc_z",
        "outputId": "02d0e958-4246-4ca1-fa07-89890a1ff57a"
      },
      "source": [
        "# 3. Standardize City to lowercase in customers_df\n",
        "customers_df = customers_df.withColumn(\"City\", expr(\"lower(City)\"))\n",
        "customers_df.show()"
      ],
      "id": "MljvA6eifc_z",
      "execution_count": 5,
      "outputs": [
        {
          "output_type": "stream",
          "name": "stdout",
          "text": [
            "+----------+--------+-------------------+---------+----------+\n",
            "|CustomerID|    Name|              Email|     City|SignupDate|\n",
            "+----------+--------+-------------------+---------+----------+\n",
            "|       101|    Mani|     mani@gmail.com|   mumbai|2022-05-10|\n",
            "|       102|Saravana| saravana@yahoo.com|    delhi|2023-01-15|\n",
            "|       103| Mothesh|mothesh@hotmail.com|bangalore|2021-11-01|\n",
            "|       104|   Manoj|  manoj@outlook.com|hyderabad|2020-07-22|\n",
            "|       105|   Jeeva|    jeeva@gmail.com|  chennai|2023-03-10|\n",
            "+----------+--------+-------------------+---------+----------+\n",
            "\n"
          ]
        }
      ]
    },
    {
      "cell_type": "code",
      "metadata": {
        "colab": {
          "base_uri": "https://localhost:8080/"
        },
        "id": "tt-JZlI4fc_z",
        "outputId": "66452b3e-2b8a-41bb-f1a7-30044fe35bbb"
      },
      "source": [
        "# 4. Extract year from OrderDate as OrderYear\n",
        "orders_df = orders_df.withColumn(\"OrderYear\", year(to_date(col(\"OrderDate\"))))\n",
        "orders_df.show()"
      ],
      "id": "tt-JZlI4fc_z",
      "execution_count": 6,
      "outputs": [
        {
          "output_type": "stream",
          "name": "stdout",
          "text": [
            "+-------+----------+---------+-----------+--------+-------+----------+-----------+---------+\n",
            "|OrderID|CustomerID|  Product|   Category|Quantity|  Price| OrderDate|TotalAmount|OrderYear|\n",
            "+-------+----------+---------+-----------+--------+-------+----------+-----------+---------+\n",
            "|      1|       101|   Laptop|Electronics|       2|50000.0|2024-01-10|   100000.0|     2024|\n",
            "|      2|       101|    Mouse|Electronics|       1| 1200.0|2024-01-15|     1200.0|     2024|\n",
            "|      3|       102|   Tablet|Electronics|       1|20000.0|2024-02-01|    20000.0|     2024|\n",
            "|      4|       103|Bookshelf|  Furniture|       1| 3500.0|2024-02-10|     3500.0|     2024|\n",
            "|      5|       104|    Mixer| Appliances|       1| 5000.0|2024-02-15|     5000.0|     2024|\n",
            "|      6|       105| Notebook| Stationery|       5|  500.0|2024-03-01|     2500.0|     2024|\n",
            "|      7|       102|    Phone|Electronics|       1|30000.0|2024-03-02|    30000.0|     2024|\n",
            "+-------+----------+---------+-----------+--------+-------+----------+-----------+---------+\n",
            "\n"
          ]
        }
      ]
    },
    {
      "cell_type": "code",
      "metadata": {
        "colab": {
          "base_uri": "https://localhost:8080/"
        },
        "id": "V4yUEH1yfc_z",
        "outputId": "dac188ed-7742-46fd-f3b1-4234b0e620cb"
      },
      "source": [
        "# 5. Fill nulls in Email with default email 'unknown@example.com' (example)\n",
        "customers_df = customers_df.na.fill({\"Email\": \"unknown@example.com\"})\n",
        "customers_df.show()"
      ],
      "id": "V4yUEH1yfc_z",
      "execution_count": 7,
      "outputs": [
        {
          "output_type": "stream",
          "name": "stdout",
          "text": [
            "+----------+--------+-------------------+---------+----------+\n",
            "|CustomerID|    Name|              Email|     City|SignupDate|\n",
            "+----------+--------+-------------------+---------+----------+\n",
            "|       101|    Mani|     mani@gmail.com|   mumbai|2022-05-10|\n",
            "|       102|Saravana| saravana@yahoo.com|    delhi|2023-01-15|\n",
            "|       103| Mothesh|mothesh@hotmail.com|bangalore|2021-11-01|\n",
            "|       104|   Manoj|  manoj@outlook.com|hyderabad|2020-07-22|\n",
            "|       105|   Jeeva|    jeeva@gmail.com|  chennai|2023-03-10|\n",
            "+----------+--------+-------------------+---------+----------+\n",
            "\n"
          ]
        }
      ]
    },
    {
      "cell_type": "code",
      "metadata": {
        "colab": {
          "base_uri": "https://localhost:8080/"
        },
        "id": "iC2DqbLIfc_0",
        "outputId": "54771f21-ce2d-456c-f6eb-14f96d46639e"
      },
      "source": [
        "# 6. Categorize orders using when/otherwise on TotalAmount\n",
        "orders_df = orders_df.withColumn(\"AmountCategory\",\n",
        "    when(col(\"TotalAmount\") < 5000, \"Low\")\n",
        "    .when((col(\"TotalAmount\") >= 5000) & (col(\"TotalAmount\") <= 20000), \"Medium\")\n",
        "    .otherwise(\"High\")\n",
        ")\n",
        "orders_df.show()"
      ],
      "id": "iC2DqbLIfc_0",
      "execution_count": 8,
      "outputs": [
        {
          "output_type": "stream",
          "name": "stdout",
          "text": [
            "+-------+----------+---------+-----------+--------+-------+----------+-----------+---------+--------------+\n",
            "|OrderID|CustomerID|  Product|   Category|Quantity|  Price| OrderDate|TotalAmount|OrderYear|AmountCategory|\n",
            "+-------+----------+---------+-----------+--------+-------+----------+-----------+---------+--------------+\n",
            "|      1|       101|   Laptop|Electronics|       2|50000.0|2024-01-10|   100000.0|     2024|          High|\n",
            "|      2|       101|    Mouse|Electronics|       1| 1200.0|2024-01-15|     1200.0|     2024|           Low|\n",
            "|      3|       102|   Tablet|Electronics|       1|20000.0|2024-02-01|    20000.0|     2024|        Medium|\n",
            "|      4|       103|Bookshelf|  Furniture|       1| 3500.0|2024-02-10|     3500.0|     2024|           Low|\n",
            "|      5|       104|    Mixer| Appliances|       1| 5000.0|2024-02-15|     5000.0|     2024|        Medium|\n",
            "|      6|       105| Notebook| Stationery|       5|  500.0|2024-03-01|     2500.0|     2024|           Low|\n",
            "|      7|       102|    Phone|Electronics|       1|30000.0|2024-03-02|    30000.0|     2024|          High|\n",
            "+-------+----------+---------+-----------+--------+-------+----------+-----------+---------+--------------+\n",
            "\n"
          ]
        }
      ]
    },
    {
      "cell_type": "code",
      "metadata": {
        "colab": {
          "base_uri": "https://localhost:8080/"
        },
        "id": "vm4Xr5zJfc_0",
        "outputId": "2fc994e1-f303-4058-b402-99af72f40bfa"
      },
      "source": [
        "# 7. List all orders made by \"Mani\"\n",
        "customers_df.createOrReplaceTempView(\"customers_temp\")\n",
        "orders_df.createOrReplaceTempView(\"orders_temp\")\n",
        "\n",
        "spark.sql(\"\"\"\n",
        "SELECT o.*\n",
        "FROM customers_temp c\n",
        "JOIN orders_temp o ON c.CustomerID = o.CustomerID\n",
        "WHERE c.Name = 'Mani'\n",
        "\"\"\").show()"
      ],
      "id": "vm4Xr5zJfc_0",
      "execution_count": 9,
      "outputs": [
        {
          "output_type": "stream",
          "name": "stdout",
          "text": [
            "+-------+----------+-------+-----------+--------+-------+----------+-----------+---------+--------------+\n",
            "|OrderID|CustomerID|Product|   Category|Quantity|  Price| OrderDate|TotalAmount|OrderYear|AmountCategory|\n",
            "+-------+----------+-------+-----------+--------+-------+----------+-----------+---------+--------------+\n",
            "|      1|       101| Laptop|Electronics|       2|50000.0|2024-01-10|   100000.0|     2024|          High|\n",
            "|      2|       101|  Mouse|Electronics|       1| 1200.0|2024-01-15|     1200.0|     2024|           Low|\n",
            "+-------+----------+-------+-----------+--------+-------+----------+-----------+---------+--------------+\n",
            "\n"
          ]
        }
      ]
    },
    {
      "cell_type": "code",
      "metadata": {
        "colab": {
          "base_uri": "https://localhost:8080/"
        },
        "id": "LHDdkz9Afc_0",
        "outputId": "7bdcb1ae-9cc0-4bf5-e4f0-6d80ef433eb0"
      },
      "source": [
        "# 8. Total spending by each customer (compute TotalAmount in SQL)\n",
        "spark.sql(\"\"\"\n",
        "SELECT c.Name, SUM(o.Quantity * o.Price) AS TotalSpending\n",
        "FROM sales.customers c\n",
        "JOIN sales.orders o ON c.CustomerID = o.CustomerID\n",
        "GROUP BY c.Name\n",
        "\"\"\").show()"
      ],
      "id": "LHDdkz9Afc_0",
      "execution_count": 10,
      "outputs": [
        {
          "output_type": "stream",
          "name": "stdout",
          "text": [
            "+--------+-------------+\n",
            "|    Name|TotalSpending|\n",
            "+--------+-------------+\n",
            "|    Mani|     101200.0|\n",
            "|Saravana|      50000.0|\n",
            "|   Jeeva|       2500.0|\n",
            "|   Manoj|       5000.0|\n",
            "| Mothesh|       3500.0|\n",
            "+--------+-------------+\n",
            "\n"
          ]
        }
      ]
    },
    {
      "cell_type": "code",
      "metadata": {
        "colab": {
          "base_uri": "https://localhost:8080/"
        },
        "id": "vAk40C6rfc_0",
        "outputId": "ff1a06e9-855d-49b5-8a7c-0b0a82f65019"
      },
      "source": [
        "# 9. Category with highest total revenue (compute in SQL)\n",
        "spark.sql(\"\"\"\n",
        "SELECT Category, SUM(Quantity * Price) AS TotalRevenue\n",
        "FROM sales.orders\n",
        "GROUP BY Category\n",
        "ORDER BY TotalRevenue DESC\n",
        "LIMIT 1\n",
        "\"\"\").show()"
      ],
      "id": "vAk40C6rfc_0",
      "execution_count": 11,
      "outputs": [
        {
          "output_type": "stream",
          "name": "stdout",
          "text": [
            "+-----------+------------+\n",
            "|   Category|TotalRevenue|\n",
            "+-----------+------------+\n",
            "|Electronics|    151200.0|\n",
            "+-----------+------------+\n",
            "\n"
          ]
        }
      ]
    },
    {
      "cell_type": "code",
      "metadata": {
        "colab": {
          "base_uri": "https://localhost:8080/"
        },
        "id": "M1VGzKoxfc_0",
        "outputId": "273bdb81-a088-444b-b400-5d2a6dc9e33e"
      },
      "source": [
        "# 10. Create view customer_orders (CustomerName, Product, TotalAmount)\n",
        "spark.sql(\"\"\"\n",
        "CREATE OR REPLACE VIEW sales.customer_orders AS\n",
        "SELECT c.Name AS CustomerName, o.Product, (o.Quantity * o.Price) AS TotalAmount\n",
        "FROM sales.customers c\n",
        "JOIN sales.orders o ON c.CustomerID = o.CustomerID\n",
        "\"\"\")"
      ],
      "id": "M1VGzKoxfc_0",
      "execution_count": 12,
      "outputs": [
        {
          "output_type": "execute_result",
          "data": {
            "text/plain": [
              "DataFrame[]"
            ]
          },
          "metadata": {},
          "execution_count": 12
        }
      ]
    },
    {
      "cell_type": "code",
      "metadata": {
        "colab": {
          "base_uri": "https://localhost:8080/"
        },
        "id": "TfzCqN6Bfc_0",
        "outputId": "492e4bb6-ede0-4740-e026-69372b191f7b"
      },
      "source": [
        "# 11. Query the view for products ordered after Feb 2024\n",
        "spark.sql(\"\"\"\n",
        "SELECT *\n",
        "FROM sales.customer_orders co\n",
        "JOIN sales.orders o ON co.Product = o.Product\n",
        "WHERE o.OrderDate > '2024-02-01'\n",
        "\"\"\").show()"
      ],
      "id": "TfzCqN6Bfc_0",
      "execution_count": 13,
      "outputs": [
        {
          "output_type": "stream",
          "name": "stdout",
          "text": [
            "+------------+---------+-----------+-------+----------+---------+-----------+--------+-------+----------+\n",
            "|CustomerName|  Product|TotalAmount|OrderID|CustomerID|  Product|   Category|Quantity|  Price| OrderDate|\n",
            "+------------+---------+-----------+-------+----------+---------+-----------+--------+-------+----------+\n",
            "|     Mothesh|Bookshelf|     3500.0|      4|       103|Bookshelf|  Furniture|       1| 3500.0|2024-02-10|\n",
            "|       Manoj|    Mixer|     5000.0|      5|       104|    Mixer| Appliances|       1| 5000.0|2024-02-15|\n",
            "|       Jeeva| Notebook|     2500.0|      6|       105| Notebook| Stationery|       5|  500.0|2024-03-01|\n",
            "|    Saravana|    Phone|    30000.0|      7|       102|    Phone|Electronics|       1|30000.0|2024-03-02|\n",
            "+------------+---------+-----------+-------+----------+---------+-----------+--------+-------+----------+\n",
            "\n"
          ]
        }
      ]
    },
    {
      "cell_type": "code",
      "metadata": {
        "colab": {
          "base_uri": "https://localhost:8080/"
        },
        "id": "qSOAVyttfc_1",
        "outputId": "81de5219-0182-475e-b022-3749ed6c083b"
      },
      "source": [
        "# 12. Global temp view from customers_df and query Mumbai customers\n",
        "customers_df.createGlobalTempView(\"customers\")\n",
        "spark.sql(\"\"\"\n",
        "SELECT * FROM global_temp.customers WHERE City = 'mumbai'\n",
        "\"\"\").show()"
      ],
      "id": "qSOAVyttfc_1",
      "execution_count": 14,
      "outputs": [
        {
          "output_type": "stream",
          "name": "stdout",
          "text": [
            "+----------+----+--------------+------+----------+\n",
            "|CustomerID|Name|         Email|  City|SignupDate|\n",
            "+----------+----+--------------+------+----------+\n",
            "|       101|Mani|mani@gmail.com|mumbai|2022-05-10|\n",
            "+----------+----+--------------+------+----------+\n",
            "\n"
          ]
        }
      ]
    },
    {
      "cell_type": "code",
      "metadata": {
        "id": "cvvYn3qefc_1"
      },
      "source": [
        "# 13. Save transformed orders_df with TotalAmount as Parquet\n",
        "orders_df.write.mode(\"overwrite\").parquet(\"/tmp/orders_with_total.parquet\")"
      ],
      "id": "cvvYn3qefc_1",
      "execution_count": 15,
      "outputs": []
    },
    {
      "cell_type": "code",
      "metadata": {
        "colab": {
          "base_uri": "https://localhost:8080/"
        },
        "id": "QmIiKFANfc_1",
        "outputId": "43d2366c-0d0d-44b7-c993-742db15c23aa"
      },
      "source": [
        "# 14. Read back Parquet and count orders\n",
        "parquet_df = spark.read.parquet(\"/tmp/orders_with_total.parquet\")\n",
        "print(f\"Total orders in parquet file: {parquet_df.count()}\")"
      ],
      "id": "QmIiKFANfc_1",
      "execution_count": 16,
      "outputs": [
        {
          "output_type": "stream",
          "name": "stdout",
          "text": [
            "Total orders in parquet file: 7\n"
          ]
        }
      ]
    },
    {
      "cell_type": "code",
      "metadata": {
        "colab": {
          "base_uri": "https://localhost:8080/"
        },
        "id": "362i9YDUfc_1",
        "outputId": "4918f434-bf1e-44d4-b66f-039ff534b78a"
      },
      "source": [
        "# 15. UDF to mask emails like a***@gmail.com\n",
        "def mask_email(email):\n",
        "    try:\n",
        "        local, domain = email.split(\"@\")\n",
        "        return local[0] + \"***@\" + domain\n",
        "    except:\n",
        "        return email\n",
        "\n",
        "mask_email_udf = udf(mask_email, StringType())\n",
        "customers_df = customers_df.withColumn(\"MaskedEmail\", mask_email_udf(col(\"Email\")))\n",
        "customers_df.select(\"Email\", \"MaskedEmail\").show()"
      ],
      "id": "362i9YDUfc_1",
      "execution_count": 17,
      "outputs": [
        {
          "output_type": "stream",
          "name": "stdout",
          "text": [
            "+-------------------+----------------+\n",
            "|              Email|     MaskedEmail|\n",
            "+-------------------+----------------+\n",
            "|     mani@gmail.com|  m***@gmail.com|\n",
            "| saravana@yahoo.com|  s***@yahoo.com|\n",
            "|mothesh@hotmail.com|m***@hotmail.com|\n",
            "|  manoj@outlook.com|m***@outlook.com|\n",
            "|    jeeva@gmail.com|  j***@gmail.com|\n",
            "+-------------------+----------------+\n",
            "\n"
          ]
        }
      ]
    },
    {
      "cell_type": "code",
      "metadata": {
        "colab": {
          "base_uri": "https://localhost:8080/"
        },
        "id": "iPt_p4QEfc_1",
        "outputId": "f57f8e93-6307-4689-f71e-4c58c1e2c665"
      },
      "source": [
        "# 16. concat_ws() full label 'Name from City'\n",
        "customers_df = customers_df.withColumn(\"Label\", concat_ws(\" from \", col(\"Name\"), col(\"City\")))\n",
        "customers_df.select(\"Label\").show()"
      ],
      "id": "iPt_p4QEfc_1",
      "execution_count": 18,
      "outputs": [
        {
          "output_type": "stream",
          "name": "stdout",
          "text": [
            "+--------------------+\n",
            "|               Label|\n",
            "+--------------------+\n",
            "|    Mani from mumbai|\n",
            "| Saravana from delhi|\n",
            "|Mothesh from bang...|\n",
            "|Manoj from hyderabad|\n",
            "|  Jeeva from chennai|\n",
            "+--------------------+\n",
            "\n"
          ]
        }
      ]
    },
    {
      "cell_type": "code",
      "metadata": {
        "colab": {
          "base_uri": "https://localhost:8080/"
        },
        "id": "oLwFEN5lfc_1",
        "outputId": "1ddc0175-70d1-46dd-a600-09edb459d9b7"
      },
      "source": [
        "# 17. Remove special characters from Product names\n",
        "orders_df = orders_df.withColumn(\"CleanProduct\", regexp_replace(col(\"Product\"), \"[^a-zA-Z0-9 ]\", \"\"))\n",
        "orders_df.select(\"Product\", \"CleanProduct\").show()"
      ],
      "id": "oLwFEN5lfc_1",
      "execution_count": 19,
      "outputs": [
        {
          "output_type": "stream",
          "name": "stdout",
          "text": [
            "+---------+------------+\n",
            "|  Product|CleanProduct|\n",
            "+---------+------------+\n",
            "|   Laptop|      Laptop|\n",
            "|    Mouse|       Mouse|\n",
            "|   Tablet|      Tablet|\n",
            "|Bookshelf|   Bookshelf|\n",
            "|    Mixer|       Mixer|\n",
            "| Notebook|    Notebook|\n",
            "|    Phone|       Phone|\n",
            "+---------+------------+\n",
            "\n"
          ]
        }
      ]
    },
    {
      "cell_type": "code",
      "metadata": {
        "colab": {
          "base_uri": "https://localhost:8080/"
        },
        "id": "tfoHPJGBfc_1",
        "outputId": "c734dd1d-d56c-476e-b1f1-6b65050bef48"
      },
      "source": [
        "# 18. Calculate customer age in days from SignupDate to today\n",
        "from pyspark.sql.functions import current_date\n",
        "customers_df = customers_df.withColumn(\"SignupDate\", to_date(col(\"SignupDate\")))\n",
        "customers_df = customers_df.withColumn(\"DaysSinceSignup\", datediff(current_date(), col(\"SignupDate\")))\n",
        "customers_df.select(\"Name\", \"SignupDate\", \"DaysSinceSignup\").show()"
      ],
      "id": "tfoHPJGBfc_1",
      "execution_count": 20,
      "outputs": [
        {
          "output_type": "stream",
          "name": "stdout",
          "text": [
            "+--------+----------+---------------+\n",
            "|    Name|SignupDate|DaysSinceSignup|\n",
            "+--------+----------+---------------+\n",
            "|    Mani|2022-05-10|           1121|\n",
            "|Saravana|2023-01-15|            871|\n",
            "| Mothesh|2021-11-01|           1311|\n",
            "|   Manoj|2020-07-22|           1778|\n",
            "|   Jeeva|2023-03-10|            817|\n",
            "+--------+----------+---------------+\n",
            "\n"
          ]
        }
      ]
    }
  ],
  "metadata": {
    "kernelspec": {
      "display_name": "Python 3",
      "language": "python",
      "name": "python3"
    },
    "language_info": {
      "codemirror_mode": {
        "name": "ipython",
        "version": 3
      },
      "file_extension": ".py",
      "mimetype": "text/x-python",
      "name": "python",
      "nbconvert_exporter": "python",
      "pygments_lexer": "ipython3",
      "version": "3.10.12"
    },
    "colab": {
      "provenance": [],
      "include_colab_link": true
    }
  },
  "nbformat": 4,
  "nbformat_minor": 5
}