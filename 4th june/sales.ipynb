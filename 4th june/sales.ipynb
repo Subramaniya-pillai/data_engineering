{
  "nbformat": 4,
  "nbformat_minor": 0,
  "metadata": {
    "colab": {
      "provenance": [],
      "authorship_tag": "ABX9TyPk5vcGoBnpTNfTAWEPJFXT",
      "include_colab_link": true
    },
    "kernelspec": {
      "name": "python3",
      "display_name": "Python 3"
    },
    "language_info": {
      "name": "python"
    }
  },
  "cells": [
    {
      "cell_type": "markdown",
      "metadata": {
        "id": "view-in-github",
        "colab_type": "text"
      },
      "source": [
        "<a href=\"https://colab.research.google.com/github/Subramaniya-pillai/data_engineering/blob/main/sales.ipynb\" target=\"_parent\"><img src=\"https://colab.research.google.com/assets/colab-badge.svg\" alt=\"Open In Colab\"/></a>"
      ]
    },
    {
      "cell_type": "code",
      "execution_count": 1,
      "metadata": {
        "colab": {
          "base_uri": "https://localhost:8080/"
        },
        "id": "iP4v1MjRkKIZ",
        "outputId": "c01e60d1-00fb-419a-a203-d04316a5e3e6"
      },
      "outputs": [
        {
          "output_type": "stream",
          "name": "stdout",
          "text": [
            "Requirement already satisfied: pyspark in /usr/local/lib/python3.11/dist-packages (3.5.1)\n",
            "Requirement already satisfied: py4j==0.10.9.7 in /usr/local/lib/python3.11/dist-packages (from pyspark) (0.10.9.7)\n"
          ]
        }
      ],
      "source": [
        "!pip install pyspark\n"
      ]
    },
    {
      "cell_type": "code",
      "source": [
        "from pyspark.sql import SparkSession\n",
        "from pyspark.sql.functions import col\n"
      ],
      "metadata": {
        "id": "bZCfBM2rkvwd"
      },
      "execution_count": 2,
      "outputs": []
    },
    {
      "cell_type": "code",
      "source": [
        "spark = SparkSession.builder \\\n",
        "    .appName(\"Spark SQL Exercises\") \\\n",
        "    .config(\"spark.sql.catalogImplementation\", \"in-memory\") \\\n",
        "    .getOrCreate()\n"
      ],
      "metadata": {
        "id": "zRAeQBBgkvy-"
      },
      "execution_count": 3,
      "outputs": []
    },
    {
      "cell_type": "code",
      "source": [
        "# 1. Create a new database\n",
        "spark.sql(\"CREATE DATABASE IF NOT EXISTS sales_db\")\n",
        "\n",
        "# 2. Set current database\n",
        "spark.catalog.setCurrentDatabase(\"sales_db\")\n",
        "\n",
        "# 3. Create product_sales table\n",
        "spark.sql(\"\"\"\n",
        "CREATE TABLE IF NOT EXISTS product_sales (\n",
        "  ProductID INT,\n",
        "  ProductName STRING,\n",
        "  Category STRING,\n",
        "  Price DOUBLE,\n",
        "  Quantity INT,\n",
        "  SaleDate DATE\n",
        ")\n",
        "USING PARQUET\n",
        "\"\"\")\n",
        "\n",
        "# 4. Insert 5 rows\n",
        "spark.sql(\"\"\"\n",
        "INSERT INTO product_sales VALUES\n",
        "(101, 'Laptop', 'Electronics', 75000, 1, DATE '2025-06-01'),\n",
        "(102, 'Smartphone', 'Electronics', 30000, 2, DATE '2025-06-02'),\n",
        "(103, 'Tablet', 'Electronics', 20000, 3, DATE '2025-06-03'),\n",
        "(104, 'Printer', 'Office', 8000, 1, DATE '2025-06-04'),\n",
        "(105, 'Desk', 'Furniture', 12000, 2, DATE '2025-06-05')\n",
        "\"\"\")\n",
        "\n",
        "# Show inserted data\n",
        "spark.sql(\"SELECT * FROM product_sales\").show()\n"
      ],
      "metadata": {
        "colab": {
          "base_uri": "https://localhost:8080/"
        },
        "id": "jAn9FfXDkv1U",
        "outputId": "6a9cddb5-32ec-44de-8b90-1b188c7eb7c8"
      },
      "execution_count": 5,
      "outputs": [
        {
          "output_type": "stream",
          "name": "stdout",
          "text": [
            "+---------+-----------+-----------+-------+--------+----------+\n",
            "|ProductID|ProductName|   Category|  Price|Quantity|  SaleDate|\n",
            "+---------+-----------+-----------+-------+--------+----------+\n",
            "|      101|     Laptop|Electronics|75000.0|       1|2025-06-01|\n",
            "|      102| Smartphone|Electronics|30000.0|       2|2025-06-02|\n",
            "|      103|     Tablet|Electronics|20000.0|       3|2025-06-03|\n",
            "|      104|    Printer|     Office| 8000.0|       1|2025-06-04|\n",
            "|      105|       Desk|  Furniture|12000.0|       2|2025-06-05|\n",
            "+---------+-----------+-----------+-------+--------+----------+\n",
            "\n"
          ]
        }
      ]
    },
    {
      "cell_type": "code",
      "source": [],
      "metadata": {
        "id": "5lJsOhpIkv3M"
      },
      "execution_count": null,
      "outputs": []
    },
    {
      "cell_type": "markdown",
      "source": [
        "# **5–9. Query Tasks**\n",
        "\n"
      ],
      "metadata": {
        "id": "7DN1noU4lW-V"
      }
    },
    {
      "cell_type": "code",
      "source": [
        "# 5. Select all records\n",
        "spark.sql(\"SELECT * FROM product_sales\").show()"
      ],
      "metadata": {
        "colab": {
          "base_uri": "https://localhost:8080/"
        },
        "id": "P9UuyV3ukv5Z",
        "outputId": "ef5003c3-e4f5-4da4-a0cd-628d42f4d2c3"
      },
      "execution_count": 6,
      "outputs": [
        {
          "output_type": "stream",
          "name": "stdout",
          "text": [
            "+---------+-----------+-----------+-------+--------+----------+\n",
            "|ProductID|ProductName|   Category|  Price|Quantity|  SaleDate|\n",
            "+---------+-----------+-----------+-------+--------+----------+\n",
            "|      101|     Laptop|Electronics|75000.0|       1|2025-06-01|\n",
            "|      102| Smartphone|Electronics|30000.0|       2|2025-06-02|\n",
            "|      103|     Tablet|Electronics|20000.0|       3|2025-06-03|\n",
            "|      104|    Printer|     Office| 8000.0|       1|2025-06-04|\n",
            "|      105|       Desk|  Furniture|12000.0|       2|2025-06-05|\n",
            "+---------+-----------+-----------+-------+--------+----------+\n",
            "\n"
          ]
        }
      ]
    },
    {
      "cell_type": "code",
      "source": [
        "# 6. Products where price > 500\n",
        "spark.sql(\"SELECT * FROM product_sales WHERE Price > 500\").show()\n"
      ],
      "metadata": {
        "colab": {
          "base_uri": "https://localhost:8080/"
        },
        "id": "ijcMEig1kv7r",
        "outputId": "55873139-274c-4016-950c-aabd63c7687d"
      },
      "execution_count": 7,
      "outputs": [
        {
          "output_type": "stream",
          "name": "stdout",
          "text": [
            "+---------+-----------+-----------+-------+--------+----------+\n",
            "|ProductID|ProductName|   Category|  Price|Quantity|  SaleDate|\n",
            "+---------+-----------+-----------+-------+--------+----------+\n",
            "|      101|     Laptop|Electronics|75000.0|       1|2025-06-01|\n",
            "|      102| Smartphone|Electronics|30000.0|       2|2025-06-02|\n",
            "|      103|     Tablet|Electronics|20000.0|       3|2025-06-03|\n",
            "|      104|    Printer|     Office| 8000.0|       1|2025-06-04|\n",
            "|      105|       Desk|  Furniture|12000.0|       2|2025-06-05|\n",
            "+---------+-----------+-----------+-------+--------+----------+\n",
            "\n"
          ]
        }
      ]
    },
    {
      "cell_type": "code",
      "source": [
        "# 7. Total sale amount\n",
        "spark.sql(\"SELECT ProductName, Price, Quantity, (Price * Quantity) AS TotalSale FROM product_sales\").show()\n"
      ],
      "metadata": {
        "colab": {
          "base_uri": "https://localhost:8080/"
        },
        "id": "Ftt5sDX-kv-v",
        "outputId": "54469675-cdb8-4abc-fb1e-098f2c45fc60"
      },
      "execution_count": 8,
      "outputs": [
        {
          "output_type": "stream",
          "name": "stdout",
          "text": [
            "+-----------+-------+--------+---------+\n",
            "|ProductName|  Price|Quantity|TotalSale|\n",
            "+-----------+-------+--------+---------+\n",
            "|     Laptop|75000.0|       1|  75000.0|\n",
            "| Smartphone|30000.0|       2|  60000.0|\n",
            "|     Tablet|20000.0|       3|  60000.0|\n",
            "|    Printer| 8000.0|       1|   8000.0|\n",
            "|       Desk|12000.0|       2|  24000.0|\n",
            "+-----------+-------+--------+---------+\n",
            "\n"
          ]
        }
      ]
    },
    {
      "cell_type": "code",
      "source": [
        "# 8. Number of products sold in each category\n",
        "spark.sql(\"SELECT Category, SUM(Quantity) AS TotalQuantity FROM product_sales GROUP BY Category\").show()\n"
      ],
      "metadata": {
        "colab": {
          "base_uri": "https://localhost:8080/"
        },
        "id": "lSVN-bA7lmhi",
        "outputId": "17db8bc9-f172-4a76-aad2-48ab7105464f"
      },
      "execution_count": 9,
      "outputs": [
        {
          "output_type": "stream",
          "name": "stdout",
          "text": [
            "+-----------+-------------+\n",
            "|   Category|TotalQuantity|\n",
            "+-----------+-------------+\n",
            "|Electronics|            6|\n",
            "|     Office|            1|\n",
            "|  Furniture|            2|\n",
            "+-----------+-------------+\n",
            "\n"
          ]
        }
      ]
    },
    {
      "cell_type": "code",
      "source": [
        "# 9. Sort products by total sales\n",
        "spark.sql(\"SELECT ProductName, (Price * Quantity) AS TotalSale FROM product_sales ORDER BY TotalSale DESC\").show()"
      ],
      "metadata": {
        "colab": {
          "base_uri": "https://localhost:8080/"
        },
        "id": "gEk0suEKlmkA",
        "outputId": "f45d342a-1886-4c50-d138-11b4ce38c9fc"
      },
      "execution_count": 10,
      "outputs": [
        {
          "output_type": "stream",
          "name": "stdout",
          "text": [
            "+-----------+---------+\n",
            "|ProductName|TotalSale|\n",
            "+-----------+---------+\n",
            "|     Laptop|  75000.0|\n",
            "|     Tablet|  60000.0|\n",
            "| Smartphone|  60000.0|\n",
            "|       Desk|  24000.0|\n",
            "|    Printer|   8000.0|\n",
            "+-----------+---------+\n",
            "\n"
          ]
        }
      ]
    },
    {
      "cell_type": "markdown",
      "source": [
        "# **10–12. Temporary View Tasks**"
      ],
      "metadata": {
        "id": "pE3UCBmmltNB"
      }
    },
    {
      "cell_type": "code",
      "source": [
        "# 10. Create PySpark DataFrame with dummy data\n",
        "temp_data = [\n",
        "    (201, 'Keyboard', 'Electronics', 1500.0, 2, '2025-06-01'),\n",
        "    (202, 'Mouse', 'Electronics', 800.0, 1, '2025-06-02'),\n",
        "    (203, 'Chair', 'Furniture', 5000.0, 3, '2025-06-03')\n",
        "]\n",
        "columns = [\"ProductID\", \"ProductName\", \"Category\", \"Price\", \"Quantity\", \"SaleDate\"]\n",
        "temp_df = spark.createDataFrame(temp_data, columns)\n"
      ],
      "metadata": {
        "id": "XM9aixPelmmP"
      },
      "execution_count": 11,
      "outputs": []
    },
    {
      "cell_type": "code",
      "source": [
        "# 11. Register as temporary view\n",
        "temp_df.createOrReplaceTempView(\"temp_orders\")"
      ],
      "metadata": {
        "id": "uUDPT6c6lyOR"
      },
      "execution_count": 12,
      "outputs": []
    },
    {
      "cell_type": "code",
      "source": [
        "\n",
        "# 12. Filter where quantity > 1\n",
        "spark.sql(\"SELECT * FROM temp_orders WHERE Quantity > 1\").show()"
      ],
      "metadata": {
        "colab": {
          "base_uri": "https://localhost:8080/"
        },
        "id": "ayswYy4FlyRf",
        "outputId": "986591f2-c3a1-46a4-8947-e5b4fa3c1273"
      },
      "execution_count": 13,
      "outputs": [
        {
          "output_type": "stream",
          "name": "stdout",
          "text": [
            "+---------+-----------+-----------+------+--------+----------+\n",
            "|ProductID|ProductName|   Category| Price|Quantity|  SaleDate|\n",
            "+---------+-----------+-----------+------+--------+----------+\n",
            "|      201|   Keyboard|Electronics|1500.0|       2|2025-06-01|\n",
            "|      203|      Chair|  Furniture|5000.0|       3|2025-06-03|\n",
            "+---------+-----------+-----------+------+--------+----------+\n",
            "\n"
          ]
        }
      ]
    },
    {
      "cell_type": "markdown",
      "source": [
        "# **13–14. Global Temp View Tasks**"
      ],
      "metadata": {
        "id": "FTB5dJnil164"
      }
    },
    {
      "cell_type": "code",
      "source": [
        "# 13. Create global temp view\n",
        "temp_df.createOrReplaceGlobalTempView(\"global_orders\")"
      ],
      "metadata": {
        "id": "8wgGXTczl3yU"
      },
      "execution_count": 14,
      "outputs": []
    },
    {
      "cell_type": "code",
      "source": [
        "# 14. Query from global temp view (can use in another Colab cell)\n",
        "spark.sql(\"SELECT * FROM global_temp.global_orders\").show()"
      ],
      "metadata": {
        "colab": {
          "base_uri": "https://localhost:8080/"
        },
        "id": "txjztchml302",
        "outputId": "f08b1a85-a01f-4da5-9aa6-843f1b1b8be7"
      },
      "execution_count": 15,
      "outputs": [
        {
          "output_type": "stream",
          "name": "stdout",
          "text": [
            "+---------+-----------+-----------+------+--------+----------+\n",
            "|ProductID|ProductName|   Category| Price|Quantity|  SaleDate|\n",
            "+---------+-----------+-----------+------+--------+----------+\n",
            "|      201|   Keyboard|Electronics|1500.0|       2|2025-06-01|\n",
            "|      202|      Mouse|Electronics| 800.0|       1|2025-06-02|\n",
            "|      203|      Chair|  Furniture|5000.0|       3|2025-06-03|\n",
            "+---------+-----------+-----------+------+--------+----------+\n",
            "\n"
          ]
        }
      ]
    },
    {
      "cell_type": "markdown",
      "source": [
        "# **15–18. Join Tasks**"
      ],
      "metadata": {
        "id": "nQ3PpFhIl8kz"
      }
    },
    {
      "cell_type": "code",
      "source": [
        "# 15. Create customer_details table\n",
        "spark.sql(\"\"\"\n",
        "CREATE TABLE IF NOT EXISTS customer_details (\n",
        "  CustomerID INT,\n",
        "  Name STRING,\n",
        "  Gender STRING,\n",
        "  City STRING,\n",
        "  SignupDate DATE\n",
        ")\n",
        "USING PARQUET\n",
        "\"\"\")\n"
      ],
      "metadata": {
        "colab": {
          "base_uri": "https://localhost:8080/"
        },
        "id": "LBzw4sFel33d",
        "outputId": "f09efbee-62e4-4dbd-c327-adb397ad566b"
      },
      "execution_count": 16,
      "outputs": [
        {
          "output_type": "execute_result",
          "data": {
            "text/plain": [
              "DataFrame[]"
            ]
          },
          "metadata": {},
          "execution_count": 16
        }
      ]
    },
    {
      "cell_type": "code",
      "source": [
        "# 16. Insert data into customer_details\n",
        "\n",
        "spark.sql(\"\"\"\n",
        "INSERT INTO customer_details VALUES\n",
        "(101, 'nithya', 'F', 'Chennai', DATE '2024-01-01'),\n",
        "(104, 'mani', 'M', 'Delhi', DATE '2024-02-01'),\n",
        "(105, 'saravana', 'M', 'Mumbai', DATE '2024-03-01')\n",
        "\"\"\")\n",
        "\n",
        "\n",
        "# Show inserted customers\n",
        "spark.sql(\"SELECT * FROM customer_details\").show()"
      ],
      "metadata": {
        "colab": {
          "base_uri": "https://localhost:8080/"
        },
        "id": "-0QX9tTrl357",
        "outputId": "bdbb224f-c822-4729-8386-3336d828df2a"
      },
      "execution_count": 18,
      "outputs": [
        {
          "output_type": "stream",
          "name": "stdout",
          "text": [
            "+----------+--------+------+-------+----------+\n",
            "|CustomerID|    Name|Gender|   City|SignupDate|\n",
            "+----------+--------+------+-------+----------+\n",
            "|       104|    mani|     M|  Delhi|2024-02-01|\n",
            "|       105|saravana|     M| Mumbai|2024-03-01|\n",
            "|       101|  nithya|     F|Chennai|2024-01-01|\n",
            "+----------+--------+------+-------+----------+\n",
            "\n"
          ]
        }
      ]
    },
    {
      "cell_type": "code",
      "source": [
        "# 17. Join on ProductID = CustomerID\n",
        "spark.sql(\"\"\"\n",
        "SELECT ps.ProductID, ps.ProductName, cd.Name, cd.City\n",
        "FROM product_sales ps\n",
        "JOIN customer_details cd\n",
        "ON ps.ProductID = cd.CustomerID\n",
        "\"\"\").show()\n"
      ],
      "metadata": {
        "colab": {
          "base_uri": "https://localhost:8080/"
        },
        "id": "ITYJZUCAmRnU",
        "outputId": "b852dfbd-bbd1-41d4-8edb-2fbc06a7c414"
      },
      "execution_count": 19,
      "outputs": [
        {
          "output_type": "stream",
          "name": "stdout",
          "text": [
            "+---------+-----------+--------+-------+\n",
            "|ProductID|ProductName|    Name|   City|\n",
            "+---------+-----------+--------+-------+\n",
            "|      104|    Printer|    mani|  Delhi|\n",
            "|      105|       Desk|saravana| Mumbai|\n",
            "|      101|     Laptop|  nithya|Chennai|\n",
            "+---------+-----------+--------+-------+\n",
            "\n"
          ]
        }
      ]
    },
    {
      "cell_type": "code",
      "source": [
        "# 18. Customers who bought more than 2 products\n",
        "spark.sql(\"\"\"\n",
        "SELECT cd.Name, SUM(ps.Quantity) AS TotalBought\n",
        "FROM product_sales ps\n",
        "JOIN customer_details cd\n",
        "ON ps.ProductID = cd.CustomerID\n",
        "GROUP BY cd.Name\n",
        "HAVING SUM(ps.Quantity) > 2\n",
        "\"\"\").show()"
      ],
      "metadata": {
        "colab": {
          "base_uri": "https://localhost:8080/"
        },
        "id": "VchPf1gUmWy3",
        "outputId": "8a616ab5-4e8f-4328-c7e0-36036a4b0cf6"
      },
      "execution_count": 20,
      "outputs": [
        {
          "output_type": "stream",
          "name": "stdout",
          "text": [
            "+----+-----------+\n",
            "|Name|TotalBought|\n",
            "+----+-----------+\n",
            "+----+-----------+\n",
            "\n"
          ]
        }
      ]
    },
    {
      "cell_type": "markdown",
      "source": [
        "# **19–20. View & Summary Tasks**"
      ],
      "metadata": {
        "id": "s_8PXIu-mbf8"
      }
    },
    {
      "cell_type": "code",
      "source": [
        "# 19. Create sales_summary view\n",
        "spark.sql(\"\"\"\n",
        "CREATE OR REPLACE VIEW sales_summary AS\n",
        "SELECT ProductName, Price, Quantity, (Price * Quantity) AS Total\n",
        "FROM product_sales\n",
        "\"\"\")\n"
      ],
      "metadata": {
        "colab": {
          "base_uri": "https://localhost:8080/"
        },
        "id": "ENrEojo1mW2J",
        "outputId": "96bf92fd-3d53-44e4-b293-4c8b92840a5b"
      },
      "execution_count": 21,
      "outputs": [
        {
          "output_type": "execute_result",
          "data": {
            "text/plain": [
              "DataFrame[]"
            ]
          },
          "metadata": {},
          "execution_count": 21
        }
      ]
    },
    {
      "cell_type": "code",
      "source": [
        "# 20. Query records with Total > 1000\n",
        "spark.sql(\"SELECT * FROM sales_summary WHERE Total > 1000\").show()"
      ],
      "metadata": {
        "colab": {
          "base_uri": "https://localhost:8080/"
        },
        "id": "m5hJ9Lrqmhq1",
        "outputId": "86bcc644-1045-4759-d426-fa2bc7b2d575"
      },
      "execution_count": 22,
      "outputs": [
        {
          "output_type": "stream",
          "name": "stdout",
          "text": [
            "+-----------+-------+--------+-------+\n",
            "|ProductName|  Price|Quantity|  Total|\n",
            "+-----------+-------+--------+-------+\n",
            "|     Laptop|75000.0|       1|75000.0|\n",
            "| Smartphone|30000.0|       2|60000.0|\n",
            "|     Tablet|20000.0|       3|60000.0|\n",
            "|    Printer| 8000.0|       1| 8000.0|\n",
            "|       Desk|12000.0|       2|24000.0|\n",
            "+-----------+-------+--------+-------+\n",
            "\n"
          ]
        }
      ]
    },
    {
      "cell_type": "markdown",
      "source": [
        "# **21–23. Cleanup Tasks**"
      ],
      "metadata": {
        "id": "8uaUkjeNmmNB"
      }
    },
    {
      "cell_type": "code",
      "source": [
        "# 21. Drop the view\n",
        "spark.sql(\"DROP VIEW IF EXISTS sales_summary\")"
      ],
      "metadata": {
        "id": "nFEKwasOmoK8"
      },
      "execution_count": null,
      "outputs": []
    },
    {
      "cell_type": "code",
      "source": [
        "# 22. Drop tables\n",
        "spark.sql(\"DROP TABLE IF EXISTS product_sales\")\n",
        "spark.sql(\"DROP TABLE IF EXISTS customer_details\")\n"
      ],
      "metadata": {
        "id": "i3ubkKpKmoNs"
      },
      "execution_count": null,
      "outputs": []
    },
    {
      "cell_type": "code",
      "source": [
        "# 23. Drop database\n",
        "spark.sql(\"DROP DATABASE IF EXISTS sales_db CASCADE\")"
      ],
      "metadata": {
        "id": "rLhRHXs7moQP"
      },
      "execution_count": null,
      "outputs": []
    }
  ]
}
