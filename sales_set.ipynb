{
  "nbformat": 4,
  "nbformat_minor": 0,
  "metadata": {
    "colab": {
      "provenance": [],
      "mount_file_id": "1gxdEoC3qf-ceTZDoGtEb3mNRXL5SGnPf",
      "authorship_tag": "ABX9TyPYmKBvYpWiDNLMj6XJmMp0",
      "include_colab_link": true
    },
    "kernelspec": {
      "name": "python3",
      "display_name": "Python 3"
    },
    "language_info": {
      "name": "python"
    }
  },
  "cells": [
    {
      "cell_type": "markdown",
      "metadata": {
        "id": "view-in-github",
        "colab_type": "text"
      },
      "source": [
        "<a href=\"https://colab.research.google.com/github/Subramaniya-pillai/data_engineering/blob/main/sales_set.ipynb\" target=\"_parent\"><img src=\"https://colab.research.google.com/assets/colab-badge.svg\" alt=\"Open In Colab\"/></a>"
      ]
    },
    {
      "cell_type": "code",
      "execution_count": 13,
      "metadata": {
        "colab": {
          "base_uri": "https://localhost:8080/"
        },
        "id": "khonRhRPDpFc",
        "outputId": "abd99c62-14a4-41c4-a26c-ad7751286ae0"
      },
      "outputs": [
        {
          "output_type": "stream",
          "name": "stdout",
          "text": [
            "Requirement already satisfied: pandas in /usr/local/lib/python3.11/dist-packages (2.2.2)\n",
            "Requirement already satisfied: pyspark in /usr/local/lib/python3.11/dist-packages (3.5.5)\n",
            "Requirement already satisfied: dask in /usr/local/lib/python3.11/dist-packages (2024.12.1)\n",
            "Requirement already satisfied: numpy>=1.23.2 in /usr/local/lib/python3.11/dist-packages (from pandas) (1.26.4)\n",
            "Requirement already satisfied: python-dateutil>=2.8.2 in /usr/local/lib/python3.11/dist-packages (from pandas) (2.8.2)\n",
            "Requirement already satisfied: pytz>=2020.1 in /usr/local/lib/python3.11/dist-packages (from pandas) (2025.1)\n",
            "Requirement already satisfied: tzdata>=2022.7 in /usr/local/lib/python3.11/dist-packages (from pandas) (2025.1)\n",
            "Requirement already satisfied: py4j==0.10.9.7 in /usr/local/lib/python3.11/dist-packages (from pyspark) (0.10.9.7)\n",
            "Requirement already satisfied: click>=8.1 in /usr/local/lib/python3.11/dist-packages (from dask) (8.1.8)\n",
            "Requirement already satisfied: cloudpickle>=3.0.0 in /usr/local/lib/python3.11/dist-packages (from dask) (3.1.1)\n",
            "Requirement already satisfied: fsspec>=2021.09.0 in /usr/local/lib/python3.11/dist-packages (from dask) (2024.10.0)\n",
            "Requirement already satisfied: packaging>=20.0 in /usr/local/lib/python3.11/dist-packages (from dask) (24.2)\n",
            "Requirement already satisfied: partd>=1.4.0 in /usr/local/lib/python3.11/dist-packages (from dask) (1.4.2)\n",
            "Requirement already satisfied: pyyaml>=5.3.1 in /usr/local/lib/python3.11/dist-packages (from dask) (6.0.2)\n",
            "Requirement already satisfied: toolz>=0.10.0 in /usr/local/lib/python3.11/dist-packages (from dask) (0.12.1)\n",
            "Requirement already satisfied: importlib_metadata>=4.13.0 in /usr/local/lib/python3.11/dist-packages (from dask) (8.6.1)\n",
            "Requirement already satisfied: zipp>=3.20 in /usr/local/lib/python3.11/dist-packages (from importlib_metadata>=4.13.0->dask) (3.21.0)\n",
            "Requirement already satisfied: locket in /usr/local/lib/python3.11/dist-packages (from partd>=1.4.0->dask) (1.0.0)\n",
            "Requirement already satisfied: six>=1.5 in /usr/local/lib/python3.11/dist-packages (from python-dateutil>=2.8.2->pandas) (1.17.0)\n"
          ]
        }
      ],
      "source": [
        "!pip install pandas pyspark dask\n"
      ]
    },
    {
      "cell_type": "code",
      "source": [
        "from pyspark.sql import SparkSession\n",
        "\n",
        "spark = SparkSession.builder.appName(\"SalesData\").getOrCreate()\n",
        "\n",
        "# Load CSV\n",
        "df_spark = spark.read.csv('/content/drive/MyDrive/Sales_Dataset__500_Records_.csv', header=True, inferSchema=True)\n",
        "\n",
        "# First 5 records\n",
        "df_spark.show(5)\n",
        "\n",
        "# Last 5 records (not direct; use order + limit)\n",
        "df_spark.orderBy(\"OrderID\", ascending=False).show(5)\n",
        "\n",
        "# Schema\n",
        "df_spark.printSchema()\n"
      ],
      "metadata": {
        "colab": {
          "base_uri": "https://localhost:8080/"
        },
        "id": "wbBecw39D9Q3",
        "outputId": "fe79706c-4ebc-43bd-e624-a9e18f22fc2b"
      },
      "execution_count": 14,
      "outputs": [
        {
          "output_type": "stream",
          "name": "stdout",
          "text": [
            "+-------+--------------+---------------+------+----------+--------------+--------+----------------+-----------+-------------+\n",
            "|OrderID|  CustomerName|ProductCategory|Amount| OrderDate|DeliveryStatus|Discount|            City|PaymentMode|CustomerSince|\n",
            "+-------+--------------+---------------+------+----------+--------------+--------+----------------+-----------+-------------+\n",
            "|   2824| Donald Walker|          Books|783.04|2024-12-26|      Returned|    0.15|    Lake Joyside|Credit Card|   2020-10-15|\n",
            "|   7912|  Brandon Hall|      Groceries| 905.0|2024-09-12|     Cancelled|    0.03|   New Jamesside|     Wallet|   2022-03-15|\n",
            "|   4611|  Donald Booth|        Fashion|657.96|2025-01-12|      Returned|    0.01|    Lake Roberto|     Wallet|   2021-08-07|\n",
            "|   3547|Phillip Garcia|        Fashion|606.89|2024-03-24|      Returned|    0.15|West Melanieview|     Wallet|   2020-08-08|\n",
            "|   8527|  Valerie Gray|           Toys| 77.87|2024-08-04|     Delivered|    0.17|       Mariastad|       Cash|   2022-11-15|\n",
            "+-------+--------------+---------------+------+----------+--------------+--------+----------------+-----------+-------------+\n",
            "only showing top 5 rows\n",
            "\n",
            "+-------+-----------------+---------------+------+----------+--------------+--------+-----------+-----------+-------------+\n",
            "|OrderID|     CustomerName|ProductCategory|Amount| OrderDate|DeliveryStatus|Discount|       City|PaymentMode|CustomerSince|\n",
            "+-------+-----------------+---------------+------+----------+--------------+--------+-----------+-----------+-------------+\n",
            "|   9996|    Brandon Munoz|           Toys|839.38|2024-09-25|     Delivered|    0.08| Pamelaside|Credit Card|   2021-04-19|\n",
            "|   9992|   Joshua Roberts|          Books|960.97|2023-07-25|       Pending|     0.2| Coreyshire|     Wallet|   2022-06-28|\n",
            "|   9970|Elizabeth Goodman|           Toys|821.02|2025-05-04|     Cancelled|    0.29| Jasonhaven|       Cash|   2021-01-09|\n",
            "|   9962|   Vanessa Morgan|           Toys|701.01|2024-09-21|       Pending|    0.06|Bushchester|       Cash|   2023-03-14|\n",
            "|   9920|       James Hall|           Toys| 280.8|2024-05-25|     Cancelled|    0.28|Ericborough|     Wallet|   2020-11-24|\n",
            "+-------+-----------------+---------------+------+----------+--------------+--------+-----------+-----------+-------------+\n",
            "only showing top 5 rows\n",
            "\n",
            "root\n",
            " |-- OrderID: integer (nullable = true)\n",
            " |-- CustomerName: string (nullable = true)\n",
            " |-- ProductCategory: string (nullable = true)\n",
            " |-- Amount: double (nullable = true)\n",
            " |-- OrderDate: date (nullable = true)\n",
            " |-- DeliveryStatus: string (nullable = true)\n",
            " |-- Discount: double (nullable = true)\n",
            " |-- City: string (nullable = true)\n",
            " |-- PaymentMode: string (nullable = true)\n",
            " |-- CustomerSince: date (nullable = true)\n",
            "\n"
          ]
        }
      ]
    },
    {
      "cell_type": "markdown",
      "source": [
        "# **2. Selection, Renaming, and Filtering**"
      ],
      "metadata": {
        "id": "RGrl6faHJnGr"
      }
    },
    {
      "cell_type": "code",
      "source": [
        "df_selected = df_spark.select(\"OrderID\", \"CustomerName\", \"Amount\")\n",
        "df_renamed = df_selected.withColumnRenamed(\"Amount\", \"OrderAmount\")\n",
        "df_renamed.show()  #  Shows the renamed DataFrame\n",
        "\n",
        "df_filtered_amount = df_spark.filter(col(\"Amount\") > 500)\n",
        "df_filtered_amount.show()  #  Show filtered result\n",
        "\n",
        "df_filtered_city = df_spark.filter(col(\"City\") == \"New York\")\n",
        "df_filtered_city.show()  #  Show filtered result\n"
      ],
      "metadata": {
        "colab": {
          "base_uri": "https://localhost:8080/"
        },
        "id": "kT-7ZCF-D9Tb",
        "outputId": "1692e0e1-984b-4b2c-cc31-74d2db6d7f07"
      },
      "execution_count": 23,
      "outputs": [
        {
          "output_type": "stream",
          "name": "stdout",
          "text": [
            "+-------+------------------+-----------+\n",
            "|OrderID|      CustomerName|OrderAmount|\n",
            "+-------+------------------+-----------+\n",
            "|   2824|     Donald Walker|     783.04|\n",
            "|   7912|      Brandon Hall|      905.0|\n",
            "|   4611|      Donald Booth|     657.96|\n",
            "|   3547|    Phillip Garcia|     606.89|\n",
            "|   8527|      Valerie Gray|      77.87|\n",
            "|   4150|       Amber Perez|     352.37|\n",
            "|   5554|        Roy Martin|     148.33|\n",
            "|   2169|    Carolyn Daniel|      14.09|\n",
            "|   6313|       Patty Perez|      79.83|\n",
            "|   6155|Jonathan Wilkerson|     882.68|\n",
            "|   9830|       Kevin Hurst|     870.55|\n",
            "|   9085| Anthony Rodriguez|     921.73|\n",
            "|   2040|     Kyle Mcdonald|     327.52|\n",
            "|   6573|    Jeffrey Chavez|     676.02|\n",
            "|   2743|  Elizabeth Fowler|      47.06|\n",
            "|   9837|     Tammy Sellers|      46.15|\n",
            "|   6038|     David Bradley|     348.51|\n",
            "|   3060|       John Pierce|     362.09|\n",
            "|   4295|   Jennifer Powers|     684.26|\n",
            "|   5061|    George Chapman|     251.89|\n",
            "+-------+------------------+-----------+\n",
            "only showing top 20 rows\n",
            "\n",
            "+-------+------------------+---------------+------+----------+---------------+--------+-----------------+-----------+-------------+------------------+-----------------+----+-----+------------------+--------+\n",
            "|OrderID|      CustomerName|ProductCategory|Amount| OrderDate| DeliveryStatus|Discount|             City|PaymentMode|CustomerSince|       FinalAmount|HighValueCustomer|Year|Month|      LoyaltyYears|OrderTag|\n",
            "+-------+------------------+---------------+------+----------+---------------+--------+-----------------+-----------+-------------+------------------+-----------------+----+-----+------------------+--------+\n",
            "|   2824|     Donald Walker|          Books|783.04|2024-12-26|       Returned|    0.15|     Lake Joyside|Credit Card|   2020-10-15|           665.584|               No|2024|   12| 4.635616438356164|  Medium|\n",
            "|   7912|      Brandon Hall|      Groceries| 905.0|2024-09-12|Order Cancelled|    0.03|    New Jamesside|     Wallet|   2022-03-15|            877.85|              Yes|2024|    9| 3.221917808219178|     Big|\n",
            "|   4611|      Donald Booth|        Fashion|657.96|2025-01-12|       Returned|    0.01|     Lake Roberto|     Wallet|   2021-08-07|          651.3804|               No|2025|    1| 3.824657534246575|  Medium|\n",
            "|   3547|    Phillip Garcia|        Fashion|606.89|2024-03-24|       Returned|    0.15| West Melanieview|     Wallet|   2020-08-08|          515.8565|               No|2024|    3| 4.821917808219178|  Medium|\n",
            "|   6155|Jonathan Wilkerson|        Fashion|882.68|2024-10-14|Order Cancelled|    0.27|       Thomasberg|       Cash|   2021-06-20| 644.3563999999999|              Yes|2024|   10| 3.956164383561644|     Big|\n",
            "|   9830|       Kevin Hurst|          Books|870.55|2024-04-08|      Delivered|    0.22|      Jeffreyberg|     Wallet|   2022-08-02|           679.029|              Yes|2024|    4|2.8383561643835615|     Big|\n",
            "|   9085| Anthony Rodriguez|      Groceries|921.73|2024-10-02|Order Cancelled|    0.03|        Port Erin|        UPI|   2022-12-15| 894.0781000000001|              Yes|2024|   10|2.4684931506849317|     Big|\n",
            "|   6573|    Jeffrey Chavez|          Books|676.02|2024-12-14|Order Cancelled|    0.19|      Teresaburgh|     Wallet|   2022-07-30|          547.5762|               No|2024|   12|2.8465753424657536|  Medium|\n",
            "|   4295|   Jennifer Powers|    Electronics|684.26|2024-03-19|Order Cancelled|    0.21|         Lammouth|        UPI|   2020-12-06|          540.5654|               No|2024|    3| 4.493150684931507|  Medium|\n",
            "|   1964|      Taylor Heath|           Toys| 578.5|2023-07-28|Order Cancelled|    0.01|   West Elizabeth|       Cash|   2021-04-30|           572.715|               No|2023|    7| 4.095890410958904|  Medium|\n",
            "|   9834|    Timothy Duncan|    Electronics|944.55|2024-06-04|Order Cancelled|    0.07|      Port Thomas|     Wallet|   2022-02-24| 878.4314999999999|              Yes|2024|    6|3.2739726027397262|     Big|\n",
            "|   3296|     Donald Wright|        Fashion|579.99|2025-05-20|Order Cancelled|    0.25|South Lindseyside|     Wallet|   2020-11-01|          434.9925|               No|2025|    5| 4.589041095890411|  Medium|\n",
            "|   4502|  Stephanie Martin|    Electronics|656.32|2023-06-04|        Pending|     0.2|       Bakermouth|Credit Card|   2021-08-19|           525.056|               No|2023|    6| 3.791780821917808|  Medium|\n",
            "|   1931|      Angela Lopez|    Electronics|686.21|2024-09-07|Order Cancelled|    0.17|Lake Michellefurt|        UPI|   2020-12-05|          569.5543|               No|2024|    9| 4.495890410958904|  Medium|\n",
            "|   5033|     Amanda Miller|           Toys|552.76|2024-10-25|        Pending|    0.21|     Sarahborough|     Wallet|   2023-04-08|436.68039999999996|               No|2024|   10|2.1561643835616437|  Medium|\n",
            "|   6147|      James Powers|           Toys|561.91|2024-01-22|Order Cancelled|    0.05|      Stewartland|Credit Card|   2020-06-16|          533.8145|               No|2024|    1| 4.967123287671233|  Medium|\n",
            "|   2127|      Jaclyn Moore|      Groceries|933.32|2025-03-11|       Returned|    0.01|      Cherylhaven|       Cash|   2020-06-14|          923.9868|              Yes|2025|    3| 4.972602739726027|     Big|\n",
            "|   5905|   Ashley Humphrey|          Books|844.87|2023-12-25|        Pending|    0.28|  North Juliaberg|       Cash|   2021-07-30| 608.3063999999999|              Yes|2023|   12|3.8465753424657536|     Big|\n",
            "|   2512|   Sandra Williams|           Toys|630.21|2024-02-17|        Pending|    0.08|        Lake Tina|        UPI|   2021-02-08| 579.7932000000001|               No|2024|    2| 4.317808219178082|  Medium|\n",
            "|   8239|     Jessica Smith|          Books|610.08|2023-07-31|      Delivered|    0.09|        New Barry|        UPI|   2021-12-27|          555.1728|               No|2023|    7|3.4356164383561643|  Medium|\n",
            "+-------+------------------+---------------+------+----------+---------------+--------+-----------------+-----------+-------------+------------------+-----------------+----+-----+------------------+--------+\n",
            "only showing top 20 rows\n",
            "\n",
            "+-------+------------+---------------+------+---------+--------------+--------+----+-----------+-------------+-----------+-----------------+----+-----+------------+--------+\n",
            "|OrderID|CustomerName|ProductCategory|Amount|OrderDate|DeliveryStatus|Discount|City|PaymentMode|CustomerSince|FinalAmount|HighValueCustomer|Year|Month|LoyaltyYears|OrderTag|\n",
            "+-------+------------+---------------+------+---------+--------------+--------+----+-----------+-------------+-----------+-----------------+----+-----+------------+--------+\n",
            "+-------+------------+---------------+------+---------+--------------+--------+----+-----------+-------------+-----------+-----------------+----+-----+------------+--------+\n",
            "\n"
          ]
        }
      ]
    },
    {
      "cell_type": "markdown",
      "source": [
        "# **3. Data Manipulation**"
      ],
      "metadata": {
        "id": "FBEOj2HTJp_M"
      }
    },
    {
      "cell_type": "code",
      "source": [
        "from pyspark.sql.functions import col, expr, when\n",
        "\n",
        "# Add FinalAmount = Amount - (Amount * Discount)\n",
        "df_spark = df_spark.withColumn(\"FinalAmount\", col(\"Amount\") - (col(\"Amount\") * col(\"Discount\")))\n",
        "\n",
        "# Sort by FinalAmount descending\n",
        "df_sorted = df_spark.orderBy(col(\"FinalAmount\").desc())\n",
        "df_sorted.select(\"OrderID\", \"Amount\", \"Discount\", \"FinalAmount\").show()\n",
        "\n",
        "# Replace \"Cancelled\" with \"Order Cancelled\" in DeliveryStatus\n",
        "df_updated = df_sorted.withColumn(\n",
        "    \"DeliveryStatus\",\n",
        "    when(col(\"DeliveryStatus\") == \"Cancelled\", \"Order Cancelled\").otherwise(col(\"DeliveryStatus\"))\n",
        ")\n",
        "\n",
        "# Show updated delivery statuses\n",
        "df_updated.select(\"OrderID\", \"DeliveryStatus\").show()\n"
      ],
      "metadata": {
        "colab": {
          "base_uri": "https://localhost:8080/"
        },
        "id": "LZJhF9eUD9Vu",
        "outputId": "0264176e-6605-4a41-aeec-1a5bad46423d"
      },
      "execution_count": 24,
      "outputs": [
        {
          "output_type": "stream",
          "name": "stdout",
          "text": [
            "+-------+------+--------+-----------------+\n",
            "|OrderID|Amount|Discount|      FinalAmount|\n",
            "+-------+------+--------+-----------------+\n",
            "|   5573|981.05|    0.02|          961.429|\n",
            "|   8474|968.91|    0.02|         949.5318|\n",
            "|   8889| 998.3|    0.06|938.4019999999999|\n",
            "|   2127|933.32|    0.01|         923.9868|\n",
            "|   9806|993.17|    0.07|         923.6481|\n",
            "|   5593|961.35|    0.05|         913.2825|\n",
            "|   2120|948.84|    0.04|         910.8864|\n",
            "|   5949|918.14|    0.01|908.9585999999999|\n",
            "|   1422| 973.2|    0.07|          905.076|\n",
            "|   2904|922.29|    0.02|         903.8442|\n",
            "|   7566|899.31|     0.0|           899.31|\n",
            "|   7511|932.21|    0.04|         894.9216|\n",
            "|   9085|921.73|    0.03|894.0781000000001|\n",
            "|   1436|978.96|    0.09|         890.8536|\n",
            "|   6008|903.71|    0.02|         885.6358|\n",
            "|   9834|944.55|    0.07|878.4314999999999|\n",
            "|   8253|998.21|    0.12|         878.4248|\n",
            "|   7912| 905.0|    0.03|           877.85|\n",
            "|   1654|903.78|    0.03|         876.6666|\n",
            "|   9239|897.41|    0.04|         861.5136|\n",
            "+-------+------+--------+-----------------+\n",
            "only showing top 20 rows\n",
            "\n",
            "+-------+---------------+\n",
            "|OrderID| DeliveryStatus|\n",
            "+-------+---------------+\n",
            "|   5573|Order Cancelled|\n",
            "|   8474|Order Cancelled|\n",
            "|   8889|Order Cancelled|\n",
            "|   2127|       Returned|\n",
            "|   9806|Order Cancelled|\n",
            "|   5593|       Returned|\n",
            "|   2120|       Returned|\n",
            "|   5949|        Pending|\n",
            "|   1422|       Returned|\n",
            "|   2904|       Returned|\n",
            "|   7566|      Delivered|\n",
            "|   7511|Order Cancelled|\n",
            "|   9085|Order Cancelled|\n",
            "|   1436|Order Cancelled|\n",
            "|   6008|        Pending|\n",
            "|   9834|Order Cancelled|\n",
            "|   8253|Order Cancelled|\n",
            "|   7912|Order Cancelled|\n",
            "|   1654|Order Cancelled|\n",
            "|   9239|Order Cancelled|\n",
            "+-------+---------------+\n",
            "only showing top 20 rows\n",
            "\n"
          ]
        }
      ]
    },
    {
      "cell_type": "markdown",
      "source": [
        "# **4. Aggregations and GroupBy**"
      ],
      "metadata": {
        "id": "aMh4HLJqJ1gU"
      }
    },
    {
      "cell_type": "code",
      "source": [
        "# Count of orders by DeliveryStatus\n",
        "df_spark.groupBy(\"DeliveryStatus\").count().show()\n",
        "\n",
        "# Average Amount by ProductCategory\n",
        "df_spark.groupBy(\"ProductCategory\").avg(\"Amount\").show()\n",
        "\n",
        "# Group by City and show total sales\n",
        "df_spark.groupBy(\"City\").sum(\"Amount\").show()\n"
      ],
      "metadata": {
        "colab": {
          "base_uri": "https://localhost:8080/"
        },
        "id": "TH9oX966D9c2",
        "outputId": "a05beca3-95d5-473b-dd17-1dce91d5d1e7"
      },
      "execution_count": 17,
      "outputs": [
        {
          "output_type": "stream",
          "name": "stdout",
          "text": [
            "+---------------+-----+\n",
            "| DeliveryStatus|count|\n",
            "+---------------+-----+\n",
            "|       Returned|  117|\n",
            "|      Delivered|  119|\n",
            "|Order Cancelled|  149|\n",
            "|        Pending|  115|\n",
            "+---------------+-----+\n",
            "\n",
            "+---------------+------------------+\n",
            "|ProductCategory|       avg(Amount)|\n",
            "+---------------+------------------+\n",
            "|        Fashion| 500.6308235294116|\n",
            "|      Groceries|459.51786407766957|\n",
            "|    Electronics|           551.745|\n",
            "|          Books| 568.6003773584907|\n",
            "|           Toys| 534.2837499999999|\n",
            "+---------------+------------------+\n",
            "\n",
            "+----------------+-----------+\n",
            "|            City|sum(Amount)|\n",
            "+----------------+-----------+\n",
            "|     Ramseymouth|     761.06|\n",
            "|East Edwardshire|     291.26|\n",
            "|      Thomasberg|     882.68|\n",
            "|     Laurenville|     383.26|\n",
            "| South Colinstad|     786.27|\n",
            "|    Lake Douglas|     975.09|\n",
            "|   Williamsmouth|      10.78|\n",
            "|      Gordonport|     514.99|\n",
            "|  West Dawnmouth|       12.8|\n",
            "|        Seanbury|     814.39|\n",
            "|     Sheilaville|     981.05|\n",
            "|       Mollybury|     222.02|\n",
            "|       Lisaville|      45.69|\n",
            "| Lake Jerrymouth|     404.01|\n",
            "|       Perezfort|     917.55|\n",
            "|Port Nicoleshire|     133.78|\n",
            "|  South Samantha|     229.46|\n",
            "|     Port Willie|     788.13|\n",
            "|     Waltersfort|     552.81|\n",
            "|       Youngbury|     372.95|\n",
            "+----------------+-----------+\n",
            "only showing top 20 rows\n",
            "\n"
          ]
        }
      ]
    },
    {
      "cell_type": "markdown",
      "source": [
        "# 5. Null Handling & **Update**"
      ],
      "metadata": {
        "id": "2a1OCdVdJ4bM"
      }
    },
    {
      "cell_type": "code",
      "source": [
        "from pyspark.sql.functions import when, col, lit\n",
        "\n",
        "# Inject nulls in City where OrderID < 10\n",
        "df_with_nulls = df_spark.withColumn(\"City\", when(col(\"OrderID\") < 10, lit(None)).otherwise(col(\"City\")))\n",
        "\n",
        "# Fill null values in City with \"Unknown\"\n",
        "df_filled = df_with_nulls.fillna({\"City\": \"Unknown\"})\n",
        "df_filled.select(\"OrderID\", \"City\").show()\n",
        "\n",
        "# Drop rows where City is still null (if any remain)\n",
        "df_dropped = df_with_nulls.dropna(subset=[\"City\"])\n",
        "df_dropped.select(\"OrderID\", \"City\").show()\n",
        "\n",
        "# Tag high-value customers: Amount > 800\n",
        "df_tagged = df_filled.withColumn(\"CustomerTag\", when(col(\"Amount\") > 800, \"High-Value\").otherwise(\"Regular\"))\n",
        "df_tagged.select(\"OrderID\", \"Amount\", \"CustomerTag\").show()\n"
      ],
      "metadata": {
        "colab": {
          "base_uri": "https://localhost:8080/"
        },
        "id": "qm8X9BlHGScu",
        "outputId": "bd1f5b4a-6a12-419a-d7f6-169c0cbbf9a8"
      },
      "execution_count": 25,
      "outputs": [
        {
          "output_type": "stream",
          "name": "stdout",
          "text": [
            "+-------+-----------------+\n",
            "|OrderID|             City|\n",
            "+-------+-----------------+\n",
            "|   2824|     Lake Joyside|\n",
            "|   7912|    New Jamesside|\n",
            "|   4611|     Lake Roberto|\n",
            "|   3547| West Melanieview|\n",
            "|   8527|        Mariastad|\n",
            "|   4150|  Port Jesseville|\n",
            "|   5554|      Lake Joseph|\n",
            "|   2169|         Grayside|\n",
            "|   6313|      Richardland|\n",
            "|   6155|       Thomasberg|\n",
            "|   9830|      Jeffreyberg|\n",
            "|   9085|        Port Erin|\n",
            "|   2040|Lake Jenniferside|\n",
            "|   6573|      Teresaburgh|\n",
            "|   2743|   East Nathaniel|\n",
            "|   9837|       Tracyville|\n",
            "|   6038|    Lake Toddland|\n",
            "|   3060|       Brandtside|\n",
            "|   4295|         Lammouth|\n",
            "|   5061|       North Chad|\n",
            "+-------+-----------------+\n",
            "only showing top 20 rows\n",
            "\n",
            "+-------+-----------------+\n",
            "|OrderID|             City|\n",
            "+-------+-----------------+\n",
            "|   2824|     Lake Joyside|\n",
            "|   7912|    New Jamesside|\n",
            "|   4611|     Lake Roberto|\n",
            "|   3547| West Melanieview|\n",
            "|   8527|        Mariastad|\n",
            "|   4150|  Port Jesseville|\n",
            "|   5554|      Lake Joseph|\n",
            "|   2169|         Grayside|\n",
            "|   6313|      Richardland|\n",
            "|   6155|       Thomasberg|\n",
            "|   9830|      Jeffreyberg|\n",
            "|   9085|        Port Erin|\n",
            "|   2040|Lake Jenniferside|\n",
            "|   6573|      Teresaburgh|\n",
            "|   2743|   East Nathaniel|\n",
            "|   9837|       Tracyville|\n",
            "|   6038|    Lake Toddland|\n",
            "|   3060|       Brandtside|\n",
            "|   4295|         Lammouth|\n",
            "|   5061|       North Chad|\n",
            "+-------+-----------------+\n",
            "only showing top 20 rows\n",
            "\n",
            "+-------+------+-----------+\n",
            "|OrderID|Amount|CustomerTag|\n",
            "+-------+------+-----------+\n",
            "|   2824|783.04|    Regular|\n",
            "|   7912| 905.0| High-Value|\n",
            "|   4611|657.96|    Regular|\n",
            "|   3547|606.89|    Regular|\n",
            "|   8527| 77.87|    Regular|\n",
            "|   4150|352.37|    Regular|\n",
            "|   5554|148.33|    Regular|\n",
            "|   2169| 14.09|    Regular|\n",
            "|   6313| 79.83|    Regular|\n",
            "|   6155|882.68| High-Value|\n",
            "|   9830|870.55| High-Value|\n",
            "|   9085|921.73| High-Value|\n",
            "|   2040|327.52|    Regular|\n",
            "|   6573|676.02|    Regular|\n",
            "|   2743| 47.06|    Regular|\n",
            "|   9837| 46.15|    Regular|\n",
            "|   6038|348.51|    Regular|\n",
            "|   3060|362.09|    Regular|\n",
            "|   4295|684.26|    Regular|\n",
            "|   5061|251.89|    Regular|\n",
            "+-------+------+-----------+\n",
            "only showing top 20 rows\n",
            "\n"
          ]
        }
      ]
    },
    {
      "cell_type": "markdown",
      "source": [
        "# **6. Date & Time Functions**\n"
      ],
      "metadata": {
        "id": "lEAkTL3PKScT"
      }
    },
    {
      "cell_type": "code",
      "source": [
        "from pyspark.sql.functions import to_date, year, month, current_date, datediff, col\n",
        "\n",
        "# Convert strings to proper date format\n",
        "df_spark = df_spark.withColumn(\"OrderDate\", to_date(col(\"OrderDate\"))) \\\n",
        "                   .withColumn(\"CustomerSince\", to_date(col(\"CustomerSince\")))\n",
        "\n",
        "# Extract year and month from OrderDate\n",
        "df_spark = df_spark.withColumn(\"Year\", year(col(\"OrderDate\"))) \\\n",
        "                   .withColumn(\"Month\", month(col(\"OrderDate\")))\n",
        "\n",
        "# Calculate LoyaltyYears = difference between today and CustomerSince\n",
        "df_spark = df_spark.withColumn(\"LoyaltyYears\", (datediff(current_date(), col(\"CustomerSince\")) / 365).cast(\"int\"))\n",
        "\n",
        "# Show key output\n",
        "df_spark.select(\"CustomerName\", \"CustomerSince\", \"LoyaltyYears\", \"Year\", \"Month\").show()\n"
      ],
      "metadata": {
        "colab": {
          "base_uri": "https://localhost:8080/"
        },
        "id": "IYAtFqIjGiRH",
        "outputId": "ceb1744c-d5c6-4dc6-e420-24caf34f8fc4"
      },
      "execution_count": 26,
      "outputs": [
        {
          "output_type": "stream",
          "name": "stdout",
          "text": [
            "+------------------+-------------+------------+----+-----+\n",
            "|      CustomerName|CustomerSince|LoyaltyYears|Year|Month|\n",
            "+------------------+-------------+------------+----+-----+\n",
            "|     Donald Walker|   2020-10-15|           4|2024|   12|\n",
            "|      Brandon Hall|   2022-03-15|           3|2024|    9|\n",
            "|      Donald Booth|   2021-08-07|           3|2025|    1|\n",
            "|    Phillip Garcia|   2020-08-08|           4|2024|    3|\n",
            "|      Valerie Gray|   2022-11-15|           2|2024|    8|\n",
            "|       Amber Perez|   2022-01-13|           3|2024|    1|\n",
            "|        Roy Martin|   2023-04-29|           2|2024|    3|\n",
            "|    Carolyn Daniel|   2021-05-09|           4|2023|   10|\n",
            "|       Patty Perez|   2021-04-25|           4|2023|    6|\n",
            "|Jonathan Wilkerson|   2021-06-20|           3|2024|   10|\n",
            "|       Kevin Hurst|   2022-08-02|           2|2024|    4|\n",
            "| Anthony Rodriguez|   2022-12-15|           2|2024|   10|\n",
            "|     Kyle Mcdonald|   2021-07-21|           3|2023|   12|\n",
            "|    Jeffrey Chavez|   2022-07-30|           2|2024|   12|\n",
            "|  Elizabeth Fowler|   2021-02-07|           4|2024|    9|\n",
            "|     Tammy Sellers|   2021-12-17|           3|2024|    9|\n",
            "|     David Bradley|   2022-09-07|           2|2023|    8|\n",
            "|       John Pierce|   2023-05-09|           2|2023|   12|\n",
            "|   Jennifer Powers|   2020-12-06|           4|2024|    3|\n",
            "|    George Chapman|   2023-02-07|           2|2023|   11|\n",
            "+------------------+-------------+------------+----+-----+\n",
            "only showing top 20 rows\n",
            "\n"
          ]
        }
      ]
    },
    {
      "cell_type": "markdown",
      "source": [
        "# **7. Joins and Unions**"
      ],
      "metadata": {
        "id": "Wsyay6V1KfmX"
      }
    },
    {
      "cell_type": "code",
      "source": [
        "# Create a DataFrame for city-region mapping\n",
        "region_data = [(\"New York\", \"East\"), (\"Los Angeles\", \"West\"), (\"Chicago\", \"Central\")]\n",
        "region_df = spark.createDataFrame(region_data, [\"City\", \"Region\"])\n",
        "\n",
        "# Inner and left joins\n",
        "df_inner = df_spark.join(region_df, on=\"City\", how=\"inner\")\n",
        "df_left = df_spark.join(region_df, on=\"City\", how=\"left\")\n",
        "\n",
        "# Union of two datasets (e.g., split by year)\n",
        "df_2023 = df_spark.filter(col(\"Year\") == 2023)\n",
        "df_2024 = df_spark.filter(col(\"Year\") == 2024)\n",
        "df_union = df_2023.unionByName(df_2024)\n"
      ],
      "metadata": {
        "id": "DHcWuiFYHyWv"
      },
      "execution_count": 20,
      "outputs": []
    },
    {
      "cell_type": "markdown",
      "source": [
        "# **8. Complex JSON Simulation**"
      ],
      "metadata": {
        "id": "0U6aM87ZJH7K"
      }
    },
    {
      "cell_type": "code",
      "source": [
        "from pyspark.sql.functions import to_json, struct, from_json, schema_of_json\n",
        "\n",
        "# Convert each row to a JSON string\n",
        "df_json = df_spark.withColumn(\"order_json\", to_json(struct([col(c) for c in df_spark.columns])))\n",
        "\n",
        "# Infer schema from one sample row\n",
        "sample_json = df_json.select(\"order_json\").first()[\"order_json\"]\n",
        "inferred_schema = schema_of_json(sample_json)\n",
        "\n",
        "# Parse the JSON string back into a struct column\n",
        "df_parsed = df_json.withColumn(\"parsed\", from_json(\"order_json\", inferred_schema))\n",
        "\n",
        "# Access fields inside the parsed column\n",
        "df_parsed.select(\"parsed.OrderID\", \"parsed.CustomerName\", \"parsed.Amount\").show(5)\n"
      ],
      "metadata": {
        "colab": {
          "base_uri": "https://localhost:8080/"
        },
        "id": "9xtbU5qOHyZS",
        "outputId": "c81d01c1-a467-445a-bd85-d7570231e6b4"
      },
      "execution_count": 21,
      "outputs": [
        {
          "output_type": "stream",
          "name": "stdout",
          "text": [
            "+-------+--------------+------+\n",
            "|OrderID|  CustomerName|Amount|\n",
            "+-------+--------------+------+\n",
            "|   2824| Donald Walker|783.04|\n",
            "|   7912|  Brandon Hall| 905.0|\n",
            "|   4611|  Donald Booth|657.96|\n",
            "|   3547|Phillip Garcia|606.89|\n",
            "|   8527|  Valerie Gray| 77.87|\n",
            "+-------+--------------+------+\n",
            "only showing top 5 rows\n",
            "\n"
          ]
        }
      ]
    },
    {
      "cell_type": "markdown",
      "source": [
        "# **9. Applying Functions**"
      ],
      "metadata": {
        "id": "zA9Av4JRJBVP"
      }
    },
    {
      "cell_type": "code",
      "source": [
        "from pyspark.sql.functions import udf, col\n",
        "from pyspark.sql.types import StringType\n",
        "\n",
        "# Define UDF for order tagging\n",
        "def tag_order(amount):\n",
        "    if amount is None:\n",
        "        return \"Unknown\"\n",
        "    elif amount > 800:\n",
        "        return \"Big\"\n",
        "    elif amount > 400:\n",
        "        return \"Medium\"\n",
        "    else:\n",
        "        return \"Small\"\n",
        "\n",
        "# Register UDF\n",
        "tag_order_udf = udf(tag_order, StringType())\n",
        "\n",
        "# Apply UDF to create OrderTag column\n",
        "df_spark = df_spark.withColumn(\"OrderTag\", tag_order_udf(col(\"Amount\")))\n",
        "\n",
        "# Show result\n",
        "df_spark.select(\"OrderID\", \"Amount\", \"OrderTag\").show()\n"
      ],
      "metadata": {
        "colab": {
          "base_uri": "https://localhost:8080/"
        },
        "id": "ShNt7eiWHybY",
        "outputId": "7448133d-2f9c-4f45-f507-1210182d2464"
      },
      "execution_count": 27,
      "outputs": [
        {
          "output_type": "stream",
          "name": "stdout",
          "text": [
            "+-------+------+--------+\n",
            "|OrderID|Amount|OrderTag|\n",
            "+-------+------+--------+\n",
            "|   2824|783.04|  Medium|\n",
            "|   7912| 905.0|     Big|\n",
            "|   4611|657.96|  Medium|\n",
            "|   3547|606.89|  Medium|\n",
            "|   8527| 77.87|   Small|\n",
            "|   4150|352.37|   Small|\n",
            "|   5554|148.33|   Small|\n",
            "|   2169| 14.09|   Small|\n",
            "|   6313| 79.83|   Small|\n",
            "|   6155|882.68|     Big|\n",
            "|   9830|870.55|     Big|\n",
            "|   9085|921.73|     Big|\n",
            "|   2040|327.52|   Small|\n",
            "|   6573|676.02|  Medium|\n",
            "|   2743| 47.06|   Small|\n",
            "|   9837| 46.15|   Small|\n",
            "|   6038|348.51|   Small|\n",
            "|   3060|362.09|   Small|\n",
            "|   4295|684.26|  Medium|\n",
            "|   5061|251.89|   Small|\n",
            "+-------+------+--------+\n",
            "only showing top 20 rows\n",
            "\n"
          ]
        }
      ]
    }
  ]
}