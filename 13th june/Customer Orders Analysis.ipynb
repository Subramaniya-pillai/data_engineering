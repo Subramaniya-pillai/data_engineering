{
 "cells": [
  {
   "cell_type": "code",
   "execution_count": 0,
   "metadata": {
    "application/vnd.databricks.v1+cell": {
     "cellMetadata": {
      "byteLimit": 2048000,
      "rowLimit": 10000
     },
     "inputWidgets": {},
     "nuid": "2ba9d3d3-44e7-4500-aa94-91fe90f5e37d",
     "showTitle": false,
     "tableResultSettingsMap": {},
     "title": ""
    }
   },
   "outputs": [
    {
     "output_type": "display_data",
     "data": {
      "text/html": [
       "<style scoped>\n",
       "  .table-result-container {\n",
       "    max-height: 300px;\n",
       "    overflow: auto;\n",
       "  }\n",
       "  table, th, td {\n",
       "    border: 1px solid black;\n",
       "    border-collapse: collapse;\n",
       "  }\n",
       "  th, td {\n",
       "    padding: 5px;\n",
       "  }\n",
       "  th {\n",
       "    text-align: left;\n",
       "  }\n",
       "</style><div class='table-result-container'><table class='table-result'><thead style='background-color: white'><tr><th>CustomerID</th><th>Name</th><th>City</th><th>Age</th></tr></thead><tbody><tr><td>101</td><td>Aditi</td><td>Mumbai</td><td>28</td></tr><tr><td>102</td><td>Rohan</td><td>Delhi</td><td>35</td></tr><tr><td>103</td><td>Meena</td><td>Bangalore</td><td>41</td></tr><tr><td>104</td><td>Kabir</td><td>Hyderabad</td><td>30</td></tr><tr><td>105</td><td>Zoya</td><td>Chennai</td><td>25</td></tr></tbody></table></div>"
      ]
     },
     "metadata": {
      "application/vnd.databricks.v1+output": {
       "addedWidgets": {},
       "aggData": [],
       "aggError": "",
       "aggOverflow": false,
       "aggSchema": [],
       "aggSeriesLimitReached": false,
       "aggType": "",
       "arguments": {},
       "columnCustomDisplayInfos": {},
       "data": [
        [
         101,
         "Aditi",
         "Mumbai",
         28
        ],
        [
         102,
         "Rohan",
         "Delhi",
         35
        ],
        [
         103,
         "Meena",
         "Bangalore",
         41
        ],
        [
         104,
         "Kabir",
         "Hyderabad",
         30
        ],
        [
         105,
         "Zoya",
         "Chennai",
         25
        ]
       ],
       "datasetInfos": [],
       "dbfsResultPath": null,
       "isJsonSchema": true,
       "metadata": {},
       "overflow": false,
       "plotOptions": {
        "customPlotOptions": {},
        "displayType": "table",
        "pivotAggregation": null,
        "pivotColumns": null,
        "xColumns": null,
        "yColumns": null
       },
       "removedWidgets": [],
       "schema": [
        {
         "metadata": "{}",
         "name": "CustomerID",
         "type": "\"integer\""
        },
        {
         "metadata": "{}",
         "name": "Name",
         "type": "\"string\""
        },
        {
         "metadata": "{}",
         "name": "City",
         "type": "\"string\""
        },
        {
         "metadata": "{}",
         "name": "Age",
         "type": "\"integer\""
        }
       ],
       "type": "table"
      }
     },
     "output_type": "display_data"
    },
    {
     "output_type": "display_data",
     "data": {
      "text/html": [
       "<style scoped>\n",
       "  .table-result-container {\n",
       "    max-height: 300px;\n",
       "    overflow: auto;\n",
       "  }\n",
       "  table, th, td {\n",
       "    border: 1px solid black;\n",
       "    border-collapse: collapse;\n",
       "  }\n",
       "  th, td {\n",
       "    padding: 5px;\n",
       "  }\n",
       "  th {\n",
       "    text-align: left;\n",
       "  }\n",
       "</style><div class='table-result-container'><table class='table-result'><thead style='background-color: white'><tr><th>OrderID</th><th>CustomerID</th><th>Product</th><th>Quantity</th><th>Price</th><th>OrderDate</th></tr></thead><tbody><tr><td>1001</td><td>101</td><td>Laptop</td><td>1</td><td>70000</td><td>2024-01-05</td></tr><tr><td>1002</td><td>102</td><td>Mobile</td><td>2</td><td>25000</td><td>2024-02-10</td></tr><tr><td>1003</td><td>103</td><td>Desk</td><td>1</td><td>10000</td><td>2024-03-15</td></tr><tr><td>1004</td><td>101</td><td>Mouse</td><td>3</td><td>1000</td><td>2024-04-01</td></tr><tr><td>1005</td><td>104</td><td>Monitor</td><td>1</td><td>12000</td><td>2024-04-25</td></tr></tbody></table></div>"
      ]
     },
     "metadata": {
      "application/vnd.databricks.v1+output": {
       "addedWidgets": {},
       "aggData": [],
       "aggError": "",
       "aggOverflow": false,
       "aggSchema": [],
       "aggSeriesLimitReached": false,
       "aggType": "",
       "arguments": {},
       "columnCustomDisplayInfos": {},
       "data": [
        [
         1001,
         101,
         "Laptop",
         1,
         70000,
         "2024-01-05"
        ],
        [
         1002,
         102,
         "Mobile",
         2,
         25000,
         "2024-02-10"
        ],
        [
         1003,
         103,
         "Desk",
         1,
         10000,
         "2024-03-15"
        ],
        [
         1004,
         101,
         "Mouse",
         3,
         1000,
         "2024-04-01"
        ],
        [
         1005,
         104,
         "Monitor",
         1,
         12000,
         "2024-04-25"
        ]
       ],
       "datasetInfos": [],
       "dbfsResultPath": null,
       "isJsonSchema": true,
       "metadata": {},
       "overflow": false,
       "plotOptions": {
        "customPlotOptions": {},
        "displayType": "table",
        "pivotAggregation": null,
        "pivotColumns": null,
        "xColumns": null,
        "yColumns": null
       },
       "removedWidgets": [],
       "schema": [
        {
         "metadata": "{}",
         "name": "OrderID",
         "type": "\"integer\""
        },
        {
         "metadata": "{}",
         "name": "CustomerID",
         "type": "\"integer\""
        },
        {
         "metadata": "{}",
         "name": "Product",
         "type": "\"string\""
        },
        {
         "metadata": "{}",
         "name": "Quantity",
         "type": "\"integer\""
        },
        {
         "metadata": "{}",
         "name": "Price",
         "type": "\"integer\""
        },
        {
         "metadata": "{\"__detected_date_formats\":\"yyyy-M-d\"}",
         "name": "OrderDate",
         "type": "\"date\""
        }
       ],
       "type": "table"
      }
     },
     "output_type": "display_data"
    }
   ],
   "source": [
    "%python\n",
    "# Set your Azure Storage Account Key\n",
    "spark.conf.set(\n",
    "  \"fs.azure.account.key.subramani21.blob.core.windows.net\",\n",
    "  \"accnt key"\n",
    ")\n",
    "\n",
    "# Read customers.csv\n",
    "customers_df = spark.read.option(\"header\", True).option(\"inferSchema\", True).csv(\n",
    "  \"wasbs://images@subramani21.blob.core.windows.net/customers.csv\"\n",
    ")\n",
    "\n",
    "# Read orders.csv\n",
    "orders_df = spark.read.option(\"header\", True).option(\"inferSchema\", True).csv(\n",
    "  \"wasbs://images@subramani21.blob.core.windows.net/orders_.csv\"\n",
    ")\n",
    "\n",
    "# Display to verify\n",
    "display(customers_df)\n",
    "display(orders_df)\n"
   ]
  },
  {
   "cell_type": "code",
   "execution_count": 0,
   "metadata": {
    "application/vnd.databricks.v1+cell": {
     "cellMetadata": {
      "byteLimit": 2048000,
      "rowLimit": 10000
     },
     "inputWidgets": {},
     "nuid": "03d86270-cf9c-49f4-b943-bf4c75696b76",
     "showTitle": false,
     "tableResultSettingsMap": {},
     "title": ""
    }
   },
   "outputs": [
    {
     "output_type": "stream",
     "name": "stdout",
     "output_type": "stream",
     "text": [
      "root\n |-- CustomerID: integer (nullable = true)\n |-- Name: string (nullable = true)\n |-- City: string (nullable = true)\n |-- Age: integer (nullable = true)\n\nroot\n |-- OrderID: integer (nullable = true)\n |-- CustomerID: integer (nullable = true)\n |-- Product: string (nullable = true)\n |-- Quantity: integer (nullable = true)\n |-- Price: integer (nullable = true)\n |-- OrderDate: date (nullable = true)\n\n"
     ]
    }
   ],
   "source": [
    "# 1. Print schemas\n",
    "customers_df.printSchema()\n",
    "orders_df.printSchema()"
   ]
  },
  {
   "cell_type": "code",
   "execution_count": 0,
   "metadata": {
    "application/vnd.databricks.v1+cell": {
     "cellMetadata": {
      "byteLimit": 2048000,
      "rowLimit": 10000
     },
     "inputWidgets": {},
     "nuid": "ee9c6812-5455-4412-8af6-01cdaabf2cef",
     "showTitle": false,
     "tableResultSettingsMap": {},
     "title": ""
    }
   },
   "outputs": [
    {
     "output_type": "display_data",
     "data": {
      "text/html": [
       "<style scoped>\n",
       "  .table-result-container {\n",
       "    max-height: 300px;\n",
       "    overflow: auto;\n",
       "  }\n",
       "  table, th, td {\n",
       "    border: 1px solid black;\n",
       "    border-collapse: collapse;\n",
       "  }\n",
       "  th, td {\n",
       "    padding: 5px;\n",
       "  }\n",
       "  th {\n",
       "    text-align: left;\n",
       "  }\n",
       "</style><div class='table-result-container'><table class='table-result'><thead style='background-color: white'><tr><th>OrderID</th><th>CustomerID</th><th>Product</th><th>Quantity</th><th>Price</th><th>OrderDate</th><th>TotalAmount</th></tr></thead><tbody><tr><td>1001</td><td>101</td><td>Laptop</td><td>1</td><td>70000</td><td>2024-01-05</td><td>70000</td></tr><tr><td>1002</td><td>102</td><td>Mobile</td><td>2</td><td>25000</td><td>2024-02-10</td><td>50000</td></tr><tr><td>1003</td><td>103</td><td>Desk</td><td>1</td><td>10000</td><td>2024-03-15</td><td>10000</td></tr><tr><td>1004</td><td>101</td><td>Mouse</td><td>3</td><td>1000</td><td>2024-04-01</td><td>3000</td></tr><tr><td>1005</td><td>104</td><td>Monitor</td><td>1</td><td>12000</td><td>2024-04-25</td><td>12000</td></tr></tbody></table></div>"
      ]
     },
     "metadata": {
      "application/vnd.databricks.v1+output": {
       "addedWidgets": {},
       "aggData": [],
       "aggError": "",
       "aggOverflow": false,
       "aggSchema": [],
       "aggSeriesLimitReached": false,
       "aggType": "",
       "arguments": {},
       "columnCustomDisplayInfos": {},
       "data": [
        [
         1001,
         101,
         "Laptop",
         1,
         70000,
         "2024-01-05",
         70000
        ],
        [
         1002,
         102,
         "Mobile",
         2,
         25000,
         "2024-02-10",
         50000
        ],
        [
         1003,
         103,
         "Desk",
         1,
         10000,
         "2024-03-15",
         10000
        ],
        [
         1004,
         101,
         "Mouse",
         3,
         1000,
         "2024-04-01",
         3000
        ],
        [
         1005,
         104,
         "Monitor",
         1,
         12000,
         "2024-04-25",
         12000
        ]
       ],
       "datasetInfos": [],
       "dbfsResultPath": null,
       "isJsonSchema": true,
       "metadata": {},
       "overflow": false,
       "plotOptions": {
        "customPlotOptions": {},
        "displayType": "table",
        "pivotAggregation": null,
        "pivotColumns": null,
        "xColumns": null,
        "yColumns": null
       },
       "removedWidgets": [],
       "schema": [
        {
         "metadata": "{}",
         "name": "OrderID",
         "type": "\"integer\""
        },
        {
         "metadata": "{}",
         "name": "CustomerID",
         "type": "\"integer\""
        },
        {
         "metadata": "{}",
         "name": "Product",
         "type": "\"string\""
        },
        {
         "metadata": "{}",
         "name": "Quantity",
         "type": "\"integer\""
        },
        {
         "metadata": "{}",
         "name": "Price",
         "type": "\"integer\""
        },
        {
         "metadata": "{\"__detected_date_formats\":\"yyyy-M-d\"}",
         "name": "OrderDate",
         "type": "\"date\""
        },
        {
         "metadata": "{}",
         "name": "TotalAmount",
         "type": "\"integer\""
        }
       ],
       "type": "table"
      }
     },
     "output_type": "display_data"
    }
   ],
   "source": [
    "# 2. Add TotalAmount column to orders\n",
    "from pyspark.sql.functions import col\n",
    "\n",
    "orders_df = orders_df.withColumn(\"TotalAmount\", col(\"Quantity\") * col(\"Price\"))\n",
    "display(orders_df)"
   ]
  },
  {
   "cell_type": "code",
   "execution_count": 0,
   "metadata": {
    "application/vnd.databricks.v1+cell": {
     "cellMetadata": {
      "byteLimit": 2048000,
      "rowLimit": 10000
     },
     "inputWidgets": {},
     "nuid": "5c1f330f-d5bd-4c92-a0da-edcaa4f73aea",
     "showTitle": false,
     "tableResultSettingsMap": {},
     "title": ""
    }
   },
   "outputs": [
    {
     "output_type": "display_data",
     "data": {
      "text/html": [
       "<style scoped>\n",
       "  .table-result-container {\n",
       "    max-height: 300px;\n",
       "    overflow: auto;\n",
       "  }\n",
       "  table, th, td {\n",
       "    border: 1px solid black;\n",
       "    border-collapse: collapse;\n",
       "  }\n",
       "  th, td {\n",
       "    padding: 5px;\n",
       "  }\n",
       "  th {\n",
       "    text-align: left;\n",
       "  }\n",
       "</style><div class='table-result-container'><table class='table-result'><thead style='background-color: white'><tr><th>CustomerID</th><th>OrderID</th><th>Product</th><th>Quantity</th><th>Price</th><th>OrderDate</th><th>TotalAmount</th><th>Name</th><th>City</th><th>Age</th></tr></thead><tbody><tr><td>101</td><td>1001</td><td>Laptop</td><td>1</td><td>70000</td><td>2024-01-05</td><td>70000</td><td>Aditi</td><td>Mumbai</td><td>28</td></tr><tr><td>102</td><td>1002</td><td>Mobile</td><td>2</td><td>25000</td><td>2024-02-10</td><td>50000</td><td>Rohan</td><td>Delhi</td><td>35</td></tr><tr><td>103</td><td>1003</td><td>Desk</td><td>1</td><td>10000</td><td>2024-03-15</td><td>10000</td><td>Meena</td><td>Bangalore</td><td>41</td></tr><tr><td>101</td><td>1004</td><td>Mouse</td><td>3</td><td>1000</td><td>2024-04-01</td><td>3000</td><td>Aditi</td><td>Mumbai</td><td>28</td></tr><tr><td>104</td><td>1005</td><td>Monitor</td><td>1</td><td>12000</td><td>2024-04-25</td><td>12000</td><td>Kabir</td><td>Hyderabad</td><td>30</td></tr></tbody></table></div>"
      ]
     },
     "metadata": {
      "application/vnd.databricks.v1+output": {
       "addedWidgets": {},
       "aggData": [],
       "aggError": "",
       "aggOverflow": false,
       "aggSchema": [],
       "aggSeriesLimitReached": false,
       "aggType": "",
       "arguments": {},
       "columnCustomDisplayInfos": {},
       "data": [
        [
         101,
         1001,
         "Laptop",
         1,
         70000,
         "2024-01-05",
         70000,
         "Aditi",
         "Mumbai",
         28
        ],
        [
         102,
         1002,
         "Mobile",
         2,
         25000,
         "2024-02-10",
         50000,
         "Rohan",
         "Delhi",
         35
        ],
        [
         103,
         1003,
         "Desk",
         1,
         10000,
         "2024-03-15",
         10000,
         "Meena",
         "Bangalore",
         41
        ],
        [
         101,
         1004,
         "Mouse",
         3,
         1000,
         "2024-04-01",
         3000,
         "Aditi",
         "Mumbai",
         28
        ],
        [
         104,
         1005,
         "Monitor",
         1,
         12000,
         "2024-04-25",
         12000,
         "Kabir",
         "Hyderabad",
         30
        ]
       ],
       "datasetInfos": [],
       "dbfsResultPath": null,
       "isJsonSchema": true,
       "metadata": {},
       "overflow": false,
       "plotOptions": {
        "customPlotOptions": {},
        "displayType": "table",
        "pivotAggregation": null,
        "pivotColumns": null,
        "xColumns": null,
        "yColumns": null
       },
       "removedWidgets": [],
       "schema": [
        {
         "metadata": "{}",
         "name": "CustomerID",
         "type": "\"integer\""
        },
        {
         "metadata": "{}",
         "name": "OrderID",
         "type": "\"integer\""
        },
        {
         "metadata": "{}",
         "name": "Product",
         "type": "\"string\""
        },
        {
         "metadata": "{}",
         "name": "Quantity",
         "type": "\"integer\""
        },
        {
         "metadata": "{}",
         "name": "Price",
         "type": "\"integer\""
        },
        {
         "metadata": "{\"__detected_date_formats\":\"yyyy-M-d\"}",
         "name": "OrderDate",
         "type": "\"date\""
        },
        {
         "metadata": "{}",
         "name": "TotalAmount",
         "type": "\"integer\""
        },
        {
         "metadata": "{}",
         "name": "Name",
         "type": "\"string\""
        },
        {
         "metadata": "{}",
         "name": "City",
         "type": "\"string\""
        },
        {
         "metadata": "{}",
         "name": "Age",
         "type": "\"integer\""
        }
       ],
       "type": "table"
      }
     },
     "output_type": "display_data"
    }
   ],
   "source": [
    "# 3. Join both DataFrames on CustomerID\n",
    "joined_df = orders_df.join(customers_df, on=\"CustomerID\", how=\"inner\")\n",
    "display(joined_df)\n",
    "\n"
   ]
  },
  {
   "cell_type": "code",
   "execution_count": 0,
   "metadata": {
    "application/vnd.databricks.v1+cell": {
     "cellMetadata": {
      "byteLimit": 2048000,
      "rowLimit": 10000
     },
     "inputWidgets": {},
     "nuid": "664aa749-039b-4584-9ec0-90b9b280ba47",
     "showTitle": false,
     "tableResultSettingsMap": {},
     "title": ""
    }
   },
   "outputs": [
    {
     "output_type": "display_data",
     "data": {
      "text/html": [
       "<style scoped>\n",
       "  .table-result-container {\n",
       "    max-height: 300px;\n",
       "    overflow: auto;\n",
       "  }\n",
       "  table, th, td {\n",
       "    border: 1px solid black;\n",
       "    border-collapse: collapse;\n",
       "  }\n",
       "  th, td {\n",
       "    padding: 5px;\n",
       "  }\n",
       "  th {\n",
       "    text-align: left;\n",
       "  }\n",
       "</style><div class='table-result-container'><table class='table-result'><thead style='background-color: white'><tr><th>CustomerID</th><th>OrderID</th><th>Product</th><th>Quantity</th><th>Price</th><th>OrderDate</th><th>TotalAmount</th><th>Name</th><th>City</th><th>Age</th></tr></thead><tbody><tr><td>101</td><td>1001</td><td>Laptop</td><td>1</td><td>70000</td><td>2024-01-05</td><td>70000</td><td>Aditi</td><td>Mumbai</td><td>28</td></tr><tr><td>102</td><td>1002</td><td>Mobile</td><td>2</td><td>25000</td><td>2024-02-10</td><td>50000</td><td>Rohan</td><td>Delhi</td><td>35</td></tr></tbody></table></div>"
      ]
     },
     "metadata": {
      "application/vnd.databricks.v1+output": {
       "addedWidgets": {},
       "aggData": [],
       "aggError": "",
       "aggOverflow": false,
       "aggSchema": [],
       "aggSeriesLimitReached": false,
       "aggType": "",
       "arguments": {},
       "columnCustomDisplayInfos": {},
       "data": [
        [
         101,
         1001,
         "Laptop",
         1,
         70000,
         "2024-01-05",
         70000,
         "Aditi",
         "Mumbai",
         28
        ],
        [
         102,
         1002,
         "Mobile",
         2,
         25000,
         "2024-02-10",
         50000,
         "Rohan",
         "Delhi",
         35
        ]
       ],
       "datasetInfos": [],
       "dbfsResultPath": null,
       "isJsonSchema": true,
       "metadata": {},
       "overflow": false,
       "plotOptions": {
        "customPlotOptions": {},
        "displayType": "table",
        "pivotAggregation": null,
        "pivotColumns": null,
        "xColumns": null,
        "yColumns": null
       },
       "removedWidgets": [],
       "schema": [
        {
         "metadata": "{}",
         "name": "CustomerID",
         "type": "\"integer\""
        },
        {
         "metadata": "{}",
         "name": "OrderID",
         "type": "\"integer\""
        },
        {
         "metadata": "{}",
         "name": "Product",
         "type": "\"string\""
        },
        {
         "metadata": "{}",
         "name": "Quantity",
         "type": "\"integer\""
        },
        {
         "metadata": "{}",
         "name": "Price",
         "type": "\"integer\""
        },
        {
         "metadata": "{\"__detected_date_formats\":\"yyyy-M-d\"}",
         "name": "OrderDate",
         "type": "\"date\""
        },
        {
         "metadata": "{}",
         "name": "TotalAmount",
         "type": "\"integer\""
        },
        {
         "metadata": "{}",
         "name": "Name",
         "type": "\"string\""
        },
        {
         "metadata": "{}",
         "name": "City",
         "type": "\"string\""
        },
        {
         "metadata": "{}",
         "name": "Age",
         "type": "\"integer\""
        }
       ],
       "type": "table"
      }
     },
     "output_type": "display_data"
    }
   ],
   "source": [
    "# 4. Filter orders where TotalAmount > 20000\n",
    "high_value_orders = joined_df.filter(col(\"TotalAmount\") > 20000)\n",
    "display(high_value_orders)\n",
    "\n"
   ]
  },
  {
   "cell_type": "code",
   "execution_count": 0,
   "metadata": {
    "application/vnd.databricks.v1+cell": {
     "cellMetadata": {
      "byteLimit": 2048000,
      "rowLimit": 10000
     },
     "inputWidgets": {},
     "nuid": "3a7f9766-be21-4948-b4a1-f48a4148e5b9",
     "showTitle": false,
     "tableResultSettingsMap": {},
     "title": ""
    }
   },
   "outputs": [
    {
     "output_type": "display_data",
     "data": {
      "text/html": [
       "<style scoped>\n",
       "  .table-result-container {\n",
       "    max-height: 300px;\n",
       "    overflow: auto;\n",
       "  }\n",
       "  table, th, td {\n",
       "    border: 1px solid black;\n",
       "    border-collapse: collapse;\n",
       "  }\n",
       "  th, td {\n",
       "    padding: 5px;\n",
       "  }\n",
       "  th {\n",
       "    text-align: left;\n",
       "  }\n",
       "</style><div class='table-result-container'><table class='table-result'><thead style='background-color: white'><tr><th>CustomerID</th><th>Name</th><th>OrderCount</th></tr></thead><tbody><tr><td>101</td><td>Aditi</td><td>2</td></tr></tbody></table></div>"
      ]
     },
     "metadata": {
      "application/vnd.databricks.v1+output": {
       "addedWidgets": {},
       "aggData": [],
       "aggError": "",
       "aggOverflow": false,
       "aggSchema": [],
       "aggSeriesLimitReached": false,
       "aggType": "",
       "arguments": {},
       "columnCustomDisplayInfos": {},
       "data": [
        [
         101,
         "Aditi",
         2
        ]
       ],
       "datasetInfos": [],
       "dbfsResultPath": null,
       "isJsonSchema": true,
       "metadata": {},
       "overflow": false,
       "plotOptions": {
        "customPlotOptions": {},
        "displayType": "table",
        "pivotAggregation": null,
        "pivotColumns": null,
        "xColumns": null,
        "yColumns": null
       },
       "removedWidgets": [],
       "schema": [
        {
         "metadata": "{}",
         "name": "CustomerID",
         "type": "\"integer\""
        },
        {
         "metadata": "{}",
         "name": "Name",
         "type": "\"string\""
        },
        {
         "metadata": "{}",
         "name": "OrderCount",
         "type": "\"long\""
        }
       ],
       "type": "table"
      }
     },
     "output_type": "display_data"
    }
   ],
   "source": [
    "# 5. Show customers who placed more than 1 order\n",
    "from pyspark.sql.functions import count\n",
    "\n",
    "multiple_orders = joined_df.groupBy(\"CustomerID\", \"Name\") \\\n",
    "    .agg(count(\"OrderID\").alias(\"OrderCount\")) \\\n",
    "    .filter(\"OrderCount > 1\")\n",
    "display(multiple_orders)"
   ]
  },
  {
   "cell_type": "code",
   "execution_count": 0,
   "metadata": {
    "application/vnd.databricks.v1+cell": {
     "cellMetadata": {
      "byteLimit": 2048000,
      "rowLimit": 10000
     },
     "inputWidgets": {},
     "nuid": "c8cc535d-ca10-43c1-b4ee-18fa92623920",
     "showTitle": false,
     "tableResultSettingsMap": {},
     "title": ""
    }
   },
   "outputs": [
    {
     "output_type": "display_data",
     "data": {
      "text/html": [
       "<style scoped>\n",
       "  .table-result-container {\n",
       "    max-height: 300px;\n",
       "    overflow: auto;\n",
       "  }\n",
       "  table, th, td {\n",
       "    border: 1px solid black;\n",
       "    border-collapse: collapse;\n",
       "  }\n",
       "  th, td {\n",
       "    padding: 5px;\n",
       "  }\n",
       "  th {\n",
       "    text-align: left;\n",
       "  }\n",
       "</style><div class='table-result-container'><table class='table-result'><thead style='background-color: white'><tr><th>City</th><th>AverageOrderValue</th></tr></thead><tbody><tr><td>Bangalore</td><td>10000.0</td></tr><tr><td>Mumbai</td><td>36500.0</td></tr><tr><td>Delhi</td><td>50000.0</td></tr><tr><td>Hyderabad</td><td>12000.0</td></tr></tbody></table></div>"
      ]
     },
     "metadata": {
      "application/vnd.databricks.v1+output": {
       "addedWidgets": {},
       "aggData": [],
       "aggError": "",
       "aggOverflow": false,
       "aggSchema": [],
       "aggSeriesLimitReached": false,
       "aggType": "",
       "arguments": {},
       "columnCustomDisplayInfos": {},
       "data": [
        [
         "Bangalore",
         10000.0
        ],
        [
         "Mumbai",
         36500.0
        ],
        [
         "Delhi",
         50000.0
        ],
        [
         "Hyderabad",
         12000.0
        ]
       ],
       "datasetInfos": [],
       "dbfsResultPath": null,
       "isJsonSchema": true,
       "metadata": {},
       "overflow": false,
       "plotOptions": {
        "customPlotOptions": {},
        "displayType": "table",
        "pivotAggregation": null,
        "pivotColumns": null,
        "xColumns": null,
        "yColumns": null
       },
       "removedWidgets": [],
       "schema": [
        {
         "metadata": "{}",
         "name": "City",
         "type": "\"string\""
        },
        {
         "metadata": "{}",
         "name": "AverageOrderValue",
         "type": "\"double\""
        }
       ],
       "type": "table"
      }
     },
     "output_type": "display_data"
    }
   ],
   "source": [
    "# 6. Group orders by City and get average order value\n",
    "from pyspark.sql.functions import avg\n",
    "\n",
    "avg_order_by_city = joined_df.groupBy(\"City\").agg(avg(\"TotalAmount\").alias(\"AverageOrderValue\"))\n",
    "display(avg_order_by_city)"
   ]
  },
  {
   "cell_type": "code",
   "execution_count": 0,
   "metadata": {
    "application/vnd.databricks.v1+cell": {
     "cellMetadata": {
      "byteLimit": 2048000,
      "rowLimit": 10000
     },
     "inputWidgets": {},
     "nuid": "fac87cd6-a933-47de-9709-b4a1765c0b2c",
     "showTitle": false,
     "tableResultSettingsMap": {},
     "title": ""
    }
   },
   "outputs": [
    {
     "output_type": "display_data",
     "data": {
      "text/html": [
       "<style scoped>\n",
       "  .table-result-container {\n",
       "    max-height: 300px;\n",
       "    overflow: auto;\n",
       "  }\n",
       "  table, th, td {\n",
       "    border: 1px solid black;\n",
       "    border-collapse: collapse;\n",
       "  }\n",
       "  th, td {\n",
       "    padding: 5px;\n",
       "  }\n",
       "  th {\n",
       "    text-align: left;\n",
       "  }\n",
       "</style><div class='table-result-container'><table class='table-result'><thead style='background-color: white'><tr><th>CustomerID</th><th>OrderID</th><th>Product</th><th>Quantity</th><th>Price</th><th>OrderDate</th><th>TotalAmount</th><th>Name</th><th>City</th><th>Age</th></tr></thead><tbody><tr><td>104</td><td>1005</td><td>Monitor</td><td>1</td><td>12000</td><td>2024-04-25</td><td>12000</td><td>Kabir</td><td>Hyderabad</td><td>30</td></tr><tr><td>101</td><td>1004</td><td>Mouse</td><td>3</td><td>1000</td><td>2024-04-01</td><td>3000</td><td>Aditi</td><td>Mumbai</td><td>28</td></tr><tr><td>103</td><td>1003</td><td>Desk</td><td>1</td><td>10000</td><td>2024-03-15</td><td>10000</td><td>Meena</td><td>Bangalore</td><td>41</td></tr><tr><td>102</td><td>1002</td><td>Mobile</td><td>2</td><td>25000</td><td>2024-02-10</td><td>50000</td><td>Rohan</td><td>Delhi</td><td>35</td></tr><tr><td>101</td><td>1001</td><td>Laptop</td><td>1</td><td>70000</td><td>2024-01-05</td><td>70000</td><td>Aditi</td><td>Mumbai</td><td>28</td></tr></tbody></table></div>"
      ]
     },
     "metadata": {
      "application/vnd.databricks.v1+output": {
       "addedWidgets": {},
       "aggData": [],
       "aggError": "",
       "aggOverflow": false,
       "aggSchema": [],
       "aggSeriesLimitReached": false,
       "aggType": "",
       "arguments": {},
       "columnCustomDisplayInfos": {},
       "data": [
        [
         104,
         1005,
         "Monitor",
         1,
         12000,
         "2024-04-25",
         12000,
         "Kabir",
         "Hyderabad",
         30
        ],
        [
         101,
         1004,
         "Mouse",
         3,
         1000,
         "2024-04-01",
         3000,
         "Aditi",
         "Mumbai",
         28
        ],
        [
         103,
         1003,
         "Desk",
         1,
         10000,
         "2024-03-15",
         10000,
         "Meena",
         "Bangalore",
         41
        ],
        [
         102,
         1002,
         "Mobile",
         2,
         25000,
         "2024-02-10",
         50000,
         "Rohan",
         "Delhi",
         35
        ],
        [
         101,
         1001,
         "Laptop",
         1,
         70000,
         "2024-01-05",
         70000,
         "Aditi",
         "Mumbai",
         28
        ]
       ],
       "datasetInfos": [],
       "dbfsResultPath": null,
       "isJsonSchema": true,
       "metadata": {},
       "overflow": false,
       "plotOptions": {
        "customPlotOptions": {},
        "displayType": "table",
        "pivotAggregation": null,
        "pivotColumns": null,
        "xColumns": null,
        "yColumns": null
       },
       "removedWidgets": [],
       "schema": [
        {
         "metadata": "{}",
         "name": "CustomerID",
         "type": "\"integer\""
        },
        {
         "metadata": "{}",
         "name": "OrderID",
         "type": "\"integer\""
        },
        {
         "metadata": "{}",
         "name": "Product",
         "type": "\"string\""
        },
        {
         "metadata": "{}",
         "name": "Quantity",
         "type": "\"integer\""
        },
        {
         "metadata": "{}",
         "name": "Price",
         "type": "\"integer\""
        },
        {
         "metadata": "{\"__detected_date_formats\":\"yyyy-M-d\"}",
         "name": "OrderDate",
         "type": "\"date\""
        },
        {
         "metadata": "{}",
         "name": "TotalAmount",
         "type": "\"integer\""
        },
        {
         "metadata": "{}",
         "name": "Name",
         "type": "\"string\""
        },
        {
         "metadata": "{}",
         "name": "City",
         "type": "\"string\""
        },
        {
         "metadata": "{}",
         "name": "Age",
         "type": "\"integer\""
        }
       ],
       "type": "table"
      }
     },
     "output_type": "display_data"
    }
   ],
   "source": [
    "# 7. Sort orders by OrderDate in descending order\n",
    "sorted_orders = joined_df.orderBy(col(\"OrderDate\").desc())\n",
    "display(sorted_orders)\n",
    "\n"
   ]
  },
  {
   "cell_type": "code",
   "execution_count": 0,
   "metadata": {
    "application/vnd.databricks.v1+cell": {
     "cellMetadata": {
      "byteLimit": 2048000,
      "rowLimit": 10000
     },
     "inputWidgets": {},
     "nuid": "badca1fc-1933-4053-ae6d-addf34d468a0",
     "showTitle": false,
     "tableResultSettingsMap": {},
     "title": ""
    }
   },
   "outputs": [],
   "source": [
    "# 8. Write the final result as a Parquet file partitioned by City\n",
    "joined_df.write.mode(\"overwrite\").partitionBy(\"City\").parquet(\n",
    "    \"wasbs://images@subramani21.blob.core.windows.net/output_parquet\"\n",
    ")\n",
    "\n",
    "\n"
   ]
  },
  {
   "cell_type": "code",
   "execution_count": 0,
   "metadata": {
    "application/vnd.databricks.v1+cell": {
     "cellMetadata": {
      "byteLimit": 2048000,
      "rowLimit": 10000
     },
     "inputWidgets": {},
     "nuid": "25f42b13-a257-4da3-ab1d-cd0eb56971ad",
     "showTitle": false,
     "tableResultSettingsMap": {},
     "title": ""
    }
   },
   "outputs": [],
   "source": [
    "# 9. Create a temporary view and run Spark SQL queries\n",
    "joined_df.createOrReplaceTempView(\"customer_orders\")"
   ]
  },
  {
   "cell_type": "code",
   "execution_count": 0,
   "metadata": {
    "application/vnd.databricks.v1+cell": {
     "cellMetadata": {
      "byteLimit": 2048000,
      "rowLimit": 10000
     },
     "inputWidgets": {},
     "nuid": "6dd95b2f-d1e8-4f44-8530-e11622850263",
     "showTitle": false,
     "tableResultSettingsMap": {},
     "title": ""
    }
   },
   "outputs": [
    {
     "output_type": "stream",
     "name": "stdout",
     "output_type": "stream",
     "text": [
      "+-----+----------+\n| Name|TotalSales|\n+-----+----------+\n|Kabir|     12000|\n|Rohan|     50000|\n|Aditi|     73000|\n|Meena|     10000|\n+-----+----------+\n\n"
     ]
    }
   ],
   "source": [
    "# Total sales by customer\n",
    "spark.sql(\"\"\"\n",
    "SELECT Name, SUM(TotalAmount) AS TotalSales \n",
    "FROM customer_orders \n",
    "GROUP BY Name\n",
    "\"\"\").show()"
   ]
  },
  {
   "cell_type": "code",
   "execution_count": 0,
   "metadata": {
    "application/vnd.databricks.v1+cell": {
     "cellMetadata": {
      "byteLimit": 2048000,
      "rowLimit": 10000
     },
     "inputWidgets": {},
     "nuid": "d4738aa2-f940-4abe-aa4b-6f501674f372",
     "showTitle": false,
     "tableResultSettingsMap": {},
     "title": ""
    }
   },
   "outputs": [
    {
     "output_type": "stream",
     "name": "stdout",
     "output_type": "stream",
     "text": [
      "+---------+------------+\n|     City|ProductCount|\n+---------+------------+\n|Bangalore|           1|\n|   Mumbai|           2|\n|    Delhi|           1|\n|Hyderabad|           1|\n+---------+------------+\n\n"
     ]
    }
   ],
   "source": [
    "# Count of products per city\n",
    "spark.sql(\"\"\"\n",
    "SELECT City, COUNT(Product) AS ProductCount \n",
    "FROM customer_orders \n",
    "GROUP BY City\n",
    "\"\"\").show()\n"
   ]
  },
  {
   "cell_type": "code",
   "execution_count": 0,
   "metadata": {
    "application/vnd.databricks.v1+cell": {
     "cellMetadata": {
      "byteLimit": 2048000,
      "rowLimit": 10000
     },
     "inputWidgets": {},
     "nuid": "c54308ee-4ba4-4acb-847c-c86810d7692d",
     "showTitle": false,
     "tableResultSettingsMap": {},
     "title": ""
    }
   },
   "outputs": [
    {
     "output_type": "stream",
     "name": "stdout",
     "output_type": "stream",
     "text": [
      "+------+-------+\n|  City|Revenue|\n+------+-------+\n|Mumbai|  73000|\n| Delhi|  50000|\n+------+-------+\n\n"
     ]
    }
   ],
   "source": [
    "# Top 2 cities by revenue\n",
    "spark.sql(\"\"\"\n",
    "SELECT City, SUM(TotalAmount) AS Revenue \n",
    "FROM customer_orders \n",
    "GROUP BY City \n",
    "ORDER BY Revenue DESC \n",
    "LIMIT 2\n",
    "\"\"\").show()\n"
   ]
  }
 ],
 "metadata": {
  "application/vnd.databricks.v1+notebook": {
   "computePreferences": null,
   "dashboards": [],
   "environmentMetadata": {
    "base_environment": "",
    "environment_version": "2"
   },
   "inputWidgetPreferences": null,
   "language": "python",
   "notebookMetadata": {
    "pythonIndentUnit": 4
   },
   "notebookName": "Customer Orders Analysis",
   "widgets": {}
  },
  "language_info": {
   "name": "python"
  }
 },
 "nbformat": 4,
 "nbformat_minor": 0
}
