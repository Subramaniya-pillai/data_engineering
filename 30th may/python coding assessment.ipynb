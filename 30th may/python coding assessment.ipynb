{
  "nbformat": 4,
  "nbformat_minor": 0,
  "metadata": {
    "colab": {
      "provenance": [],
      "authorship_tag": "ABX9TyNAH5LuNALQ7/Vp2xDK8YJv",
      "include_colab_link": true
    },
    "kernelspec": {
      "name": "python3",
      "display_name": "Python 3"
    },
    "language_info": {
      "name": "python"
    }
  },
  "cells": [
    {
      "cell_type": "markdown",
      "metadata": {
        "id": "view-in-github",
        "colab_type": "text"
      },
      "source": [
        "<a href=\"https://colab.research.google.com/github/Subramaniya-pillai/data_engineering/blob/main/python_coding_assessment.ipynb\" target=\"_parent\"><img src=\"https://colab.research.google.com/assets/colab-badge.svg\" alt=\"Open In Colab\"/></a>"
      ]
    },
    {
      "cell_type": "code",
      "source": [
        "# Section 0: Create CSV files\n",
        "import pandas as pd\n"
      ],
      "metadata": {
        "id": "F7UTy8LJ_KE7"
      },
      "execution_count": 2,
      "outputs": []
    },
    {
      "cell_type": "code",
      "execution_count": 8,
      "metadata": {
        "id": "viozweho--C2"
      },
      "outputs": [],
      "source": [
        "# Create employees.csv\n",
        "df_employees = pd.DataFrame({\n",
        "    \"EmployeeID\": [1, 2, 3, 4, 5],\n",
        "    \"Name\": [\"Ali\", \"Neha\", \"Ravi\", \"Sara\", \"Vikram\"],\n",
        "    \"Department\": [\"HR\", \"IT\", \"Finance\", \"IT\", \"HR\"],\n",
        "    \"Salary\": [50000, 60000, 55000, 70000, 52000],\n",
        "    \"JoiningDate\": [\"2021-03-15\", \"2022-01-10\", \"2020-07-23\", \"2023-05-19\", \"2022-09-30\"]\n",
        "})\n",
        "\n",
        "df_employees.to_csv(\"employees.csv\", index=False)"
      ]
    },
    {
      "cell_type": "code",
      "source": [
        "# Create projects.csv\n",
        "df_projects = pd.DataFrame({\n",
        "    \"ProjectID\": [101, 102, 103, 104],\n",
        "    \"EmployeeID\": [2, 3, 3, 5],\n",
        "    \"ProjectName\": [\"AI Chatbot\", \"ERP System\", \"Payroll Automation\", \"Cloud Migration\"],\n",
        "    \"HoursAllocated\": [120, 200, 150, 100]\n",
        "})\n",
        "df_projects.to_csv(\"projects.csv\", index=False)"
      ],
      "metadata": {
        "id": "m4qAQIfD_RjM"
      },
      "execution_count": 9,
      "outputs": []
    },
    {
      "cell_type": "code",
      "source": [
        "# --- Section 1: Python Basics & Control Flow ---\n",
        "# Q1. Print all odd numbers between 10 and 50\n",
        "print(\"Q1:\", [i for i in range(10, 51) if i % 2 != 0])"
      ],
      "metadata": {
        "colab": {
          "base_uri": "https://localhost:8080/"
        },
        "id": "K7BFIm4w_cwN",
        "outputId": "0a29e9e8-f69f-4730-eaaa-22be0514439a"
      },
      "execution_count": 10,
      "outputs": [
        {
          "output_type": "stream",
          "name": "stdout",
          "text": [
            "Q1: [11, 13, 15, 17, 19, 21, 23, 25, 27, 29, 31, 33, 35, 37, 39, 41, 43, 45, 47, 49]\n"
          ]
        }
      ]
    },
    {
      "cell_type": "code",
      "source": [
        "\n",
        "# Q2. Function to check if a year is a leap year\n",
        "def is_leap_year(year):\n",
        "    return year % 4 == 0 and (year % 100 != 0 or year % 400 == 0)\n",
        "print(\"Q2 (2024):\", is_leap_year(2024))\n"
      ],
      "metadata": {
        "colab": {
          "base_uri": "https://localhost:8080/"
        },
        "id": "LVxminXa_iA9",
        "outputId": "91b37780-a3a0-4a44-c247-080eada8f8c3"
      },
      "execution_count": 11,
      "outputs": [
        {
          "output_type": "stream",
          "name": "stdout",
          "text": [
            "Q2 (2024): True\n"
          ]
        }
      ]
    },
    {
      "cell_type": "code",
      "source": [
        "# Q3. Count 'a' in a string\n",
        "def count_a(s):\n",
        "    return s.count('a')\n",
        "print(\"Q3 ('banana'):\", count_a(\"banana\"))"
      ],
      "metadata": {
        "colab": {
          "base_uri": "https://localhost:8080/"
        },
        "id": "ljZi1qRIB4KR",
        "outputId": "75d840a6-6412-44e5-fd85-df0b46053f81"
      },
      "execution_count": 12,
      "outputs": [
        {
          "output_type": "stream",
          "name": "stdout",
          "text": [
            "Q3 ('banana'): 3\n"
          ]
        }
      ]
    },
    {
      "cell_type": "markdown",
      "source": [
        "#  Section 2: Collections\n",
        "\n",
        "\n"
      ],
      "metadata": {
        "id": "JtLzQ7ZjB_59"
      }
    },
    {
      "cell_type": "code",
      "source": [
        "\n",
        "# Q4. Create a dictionary from two lists\n",
        "keys = ['a', 'b', 'c']\n",
        "values = [100, 200, 300]\n",
        "dict_from_lists = dict(zip(keys, values))\n",
        "print(\"Q4:\", dict_from_lists)"
      ],
      "metadata": {
        "colab": {
          "base_uri": "https://localhost:8080/"
        },
        "id": "N2Qq87kJB9Rv",
        "outputId": "62ef601f-feef-42c5-c613-65566c7a9ba1"
      },
      "execution_count": 13,
      "outputs": [
        {
          "output_type": "stream",
          "name": "stdout",
          "text": [
            "Q4: {'a': 100, 'b': 200, 'c': 300}\n"
          ]
        }
      ]
    },
    {
      "cell_type": "code",
      "source": [
        "# Q5. Salary analysis\n",
        "salaries = [50000, 60000, 55000, 70000, 52000]\n",
        "max_salary = max(salaries)\n",
        "avg_salary = sum(salaries) / len(salaries)\n",
        "salaries_above_avg = [s for s in salaries if s > avg_salary]\n",
        "sorted_desc = sorted(salaries, reverse=True)\n",
        "print(\"Q5: Max:\", max_salary, \"Above Avg:\", salaries_above_avg, \"Sorted:\", sorted_desc)\n"
      ],
      "metadata": {
        "colab": {
          "base_uri": "https://localhost:8080/"
        },
        "id": "1iY8IG_ICM_T",
        "outputId": "84d05a5a-867e-4ce2-a5c7-4f3718982e2e"
      },
      "execution_count": 14,
      "outputs": [
        {
          "output_type": "stream",
          "name": "stdout",
          "text": [
            "Q5: Max: 70000 Above Avg: [60000, 70000] Sorted: [70000, 60000, 55000, 52000, 50000]\n"
          ]
        }
      ]
    },
    {
      "cell_type": "code",
      "source": [
        "# Q6. Sets and difference\n",
        "a = [1, 2, 3, 4]\n",
        "b = [3, 4, 5, 6]\n",
        "set_a = set(a)\n",
        "set_b = set(b)\n",
        "diff_ab = set_a - set_b\n",
        "print(\"Q6: Difference:\", diff_ab)"
      ],
      "metadata": {
        "colab": {
          "base_uri": "https://localhost:8080/"
        },
        "id": "JO_iLeiUCQCd",
        "outputId": "e5fc51c1-eace-4d88-a0c3-a7c58c6d612c"
      },
      "execution_count": 15,
      "outputs": [
        {
          "output_type": "stream",
          "name": "stdout",
          "text": [
            "Q6: Difference: {1, 2}\n"
          ]
        }
      ]
    },
    {
      "cell_type": "markdown",
      "source": [
        "#  Section 3: Functions & Classes\n"
      ],
      "metadata": {
        "id": "PO8GEV-LCV5R"
      }
    },
    {
      "cell_type": "code",
      "source": [
        "# Q7. Employee class\n",
        "class Employee:\n",
        "    def __init__(self, emp_id, name, department, salary):\n",
        "        self.emp_id = emp_id\n",
        "        self.name = name\n",
        "        self.department = department\n",
        "        self.salary = salary\n",
        "\n",
        "    def display(self):\n",
        "        print(f\"{self.name} ({self.emp_id}) - {self.department} - {self.salary}\")\n",
        "\n",
        "    def is_high_earner(self):\n",
        "        return self.salary > 60000"
      ],
      "metadata": {
        "id": "VHUSdVbfCS_Z"
      },
      "execution_count": 17,
      "outputs": []
    },
    {
      "cell_type": "code",
      "source": [
        "# Q8. Project class inheriting Employee\n",
        "class Project(Employee):\n",
        "    def __init__(self, emp_id, name, department, salary, project_name, hours_allocated):\n",
        "        super().__init__(emp_id, name, department, salary)\n",
        "        self.project_name = project_name\n",
        "        self.hours_allocated = hours_allocated\n"
      ],
      "metadata": {
        "id": "wGE8lUF0Cd3i"
      },
      "execution_count": 18,
      "outputs": []
    },
    {
      "cell_type": "code",
      "source": [
        "# Q9. Instantiate and check earners\n",
        "e1 = Employee(1, \"Ali\", \"HR\", 50000)\n",
        "e2 = Employee(2, \"Neha\", \"IT\", 60000)\n",
        "e3 = Employee(4, \"Sara\", \"IT\", 70000)\n",
        "print(\"Q9:\")\n",
        "print(e1.is_high_earner())\n",
        "print(e2.is_high_earner())\n",
        "print(e3.is_high_earner())\n"
      ],
      "metadata": {
        "colab": {
          "base_uri": "https://localhost:8080/"
        },
        "id": "C93YlLFcCgxf",
        "outputId": "bdec1927-ccf4-4dcf-be4f-14712ccf850a"
      },
      "execution_count": 19,
      "outputs": [
        {
          "output_type": "stream",
          "name": "stdout",
          "text": [
            "Q9:\n",
            "False\n",
            "False\n",
            "True\n"
          ]
        }
      ]
    },
    {
      "cell_type": "markdown",
      "source": [
        "#  Section 4: File Handling\n"
      ],
      "metadata": {
        "id": "a8z2tKoGCkOv"
      }
    },
    {
      "cell_type": "code",
      "source": [
        "# Q10. Write IT employee names to file\n",
        "it_employees = df_employees[df_employees['Department'] == 'IT']\n",
        "it_employees['Name'].to_csv(\"it_employees.txt\", index=False, header=False)\n",
        "print(\"Q10: Written to it_employees.txt\")"
      ],
      "metadata": {
        "colab": {
          "base_uri": "https://localhost:8080/"
        },
        "id": "cY52mqQ5CjVT",
        "outputId": "dd829c14-7f3b-4555-f8ca-ad790b2289a4"
      },
      "execution_count": 20,
      "outputs": [
        {
          "output_type": "stream",
          "name": "stdout",
          "text": [
            "Q10: Written to it_employees.txt\n"
          ]
        }
      ]
    },
    {
      "cell_type": "code",
      "source": [
        "# Q11. Read file and count words\n",
        "with open(\"it_employees.txt\", \"r\") as file:\n",
        "    text = file.read()\n",
        "    word_count = len(text.split())\n",
        "print(\"Q11: Word count:\", word_count)\n"
      ],
      "metadata": {
        "colab": {
          "base_uri": "https://localhost:8080/"
        },
        "id": "RO0AOIVzCo3J",
        "outputId": "3f2b9aa3-82b6-4afd-e3c8-48473b066f11"
      },
      "execution_count": 21,
      "outputs": [
        {
          "output_type": "stream",
          "name": "stdout",
          "text": [
            "Q11: Word count: 2\n"
          ]
        }
      ]
    },
    {
      "cell_type": "markdown",
      "source": [
        "# Section 5: Exception Handling"
      ],
      "metadata": {
        "id": "JEhWHIkdC27_"
      }
    },
    {
      "cell_type": "code",
      "source": [
        "# Q12. Input with exception handling\n",
        "try:\n",
        "    num = float(input(\"Q12: Enter a number: \"))\n",
        "    print(\"Square:\", num**2)\n",
        "except ValueError:\n",
        "    print(\"Invalid input! Not a number.\")"
      ],
      "metadata": {
        "colab": {
          "base_uri": "https://localhost:8080/"
        },
        "id": "Aqkpqcg7Ctw9",
        "outputId": "91c79132-d964-4013-e144-ecd94e12d124"
      },
      "execution_count": 23,
      "outputs": [
        {
          "output_type": "stream",
          "name": "stdout",
          "text": [
            "Q12: Enter a number: 5\n",
            "Square: 25.0\n"
          ]
        }
      ]
    },
    {
      "cell_type": "code",
      "source": [
        "# Q13. Safe division\n",
        "def safe_divide(a, b):\n",
        "    try:\n",
        "        return a / b\n",
        "    except ZeroDivisionError:\n",
        "        return \"Cannot divide by zero\"\n",
        "print(\"Q13:\", safe_divide(10, 0))"
      ],
      "metadata": {
        "colab": {
          "base_uri": "https://localhost:8080/"
        },
        "id": "nGinljIkCzLV",
        "outputId": "da1979fd-923f-4380-a332-a5d96f1e333e"
      },
      "execution_count": 24,
      "outputs": [
        {
          "output_type": "stream",
          "name": "stdout",
          "text": [
            "Q13: Cannot divide by zero\n"
          ]
        }
      ]
    },
    {
      "cell_type": "markdown",
      "source": [
        "Section 6: Pandas – CSVs"
      ],
      "metadata": {
        "id": "XgUyZ05WDDRV"
      }
    },
    {
      "cell_type": "code",
      "source": [
        "# Q14. Load CSVs\n",
        "employees = pd.read_csv(\"employees.csv\")\n",
        "projects = pd.read_csv(\"projects.csv\")\n",
        "print(\"Q14: Loaded CSVs\")"
      ],
      "metadata": {
        "colab": {
          "base_uri": "https://localhost:8080/"
        },
        "id": "0g6DlquLDAP3",
        "outputId": "bd7e7048-15f5-4768-e572-f4a0b5306dd7"
      },
      "execution_count": 25,
      "outputs": [
        {
          "output_type": "stream",
          "name": "stdout",
          "text": [
            "Q14: Loaded CSVs\n"
          ]
        }
      ]
    },
    {
      "cell_type": "code",
      "source": [
        "# Q15. Display first 2 rows, unique departments, avg salary\n",
        "print(\"Q15:\")\n",
        "print(employees.head(2))\n",
        "print(employees['Department'].unique())\n",
        "print(employees.groupby('Department')['Salary'].mean())"
      ],
      "metadata": {
        "colab": {
          "base_uri": "https://localhost:8080/"
        },
        "id": "zip83fjoDGh8",
        "outputId": "0bc1bca7-246d-485f-9e05-9be27cb03c58"
      },
      "execution_count": 26,
      "outputs": [
        {
          "output_type": "stream",
          "name": "stdout",
          "text": [
            "Q15:\n",
            "   EmployeeID  Name Department  Salary JoiningDate\n",
            "0           1   Ali         HR   50000  2021-03-15\n",
            "1           2  Neha         IT   60000  2022-01-10\n",
            "['HR' 'IT' 'Finance']\n",
            "Department\n",
            "Finance    55000.0\n",
            "HR         51000.0\n",
            "IT         65000.0\n",
            "Name: Salary, dtype: float64\n"
          ]
        }
      ]
    },
    {
      "cell_type": "code",
      "source": [
        "# Q16. Add TenureInYears\n",
        "from datetime import datetime\n",
        "current_year = datetime.now().year\n",
        "employees['TenureInYears'] = employees['JoiningDate'].apply(lambda x: current_year - int(x[:4]))\n",
        "print(\"Q16: Added TenureInYears\")"
      ],
      "metadata": {
        "colab": {
          "base_uri": "https://localhost:8080/"
        },
        "id": "xbEo0v9tDLG3",
        "outputId": "bfbaf690-4568-4298-d392-362a8ef24624"
      },
      "execution_count": 27,
      "outputs": [
        {
          "output_type": "stream",
          "name": "stdout",
          "text": [
            "Q16: Added TenureInYears\n"
          ]
        }
      ]
    },
    {
      "cell_type": "markdown",
      "source": [
        "Section 7: Filtering, Aggregation, Sorting"
      ],
      "metadata": {
        "id": "wAsv_2lmDPHs"
      }
    },
    {
      "cell_type": "code",
      "source": [
        "# Q17. Filter IT with salary > 60000\n",
        "filtered = employees[(employees['Department'] == 'IT') & (employees['Salary'] > 60000)]\n",
        "print(\"Q17:\", filtered)"
      ],
      "metadata": {
        "colab": {
          "base_uri": "https://localhost:8080/"
        },
        "id": "EpfebPP-DNTf",
        "outputId": "2e999c41-d34b-4e8c-f342-50742bb51574"
      },
      "execution_count": 28,
      "outputs": [
        {
          "output_type": "stream",
          "name": "stdout",
          "text": [
            "Q17:    EmployeeID  Name Department  Salary JoiningDate  TenureInYears\n",
            "3           4  Sara         IT   70000  2023-05-19              2\n"
          ]
        }
      ]
    },
    {
      "cell_type": "code",
      "source": [
        "# Q18. Group by Department\n",
        "grouped = employees.groupby('Department')['Salary'].agg(['count', 'sum', 'mean'])\n",
        "print(\"Q18:\", grouped)"
      ],
      "metadata": {
        "colab": {
          "base_uri": "https://localhost:8080/"
        },
        "id": "xzPvNKOUDRQH",
        "outputId": "59e96043-cee0-42b8-cc15-05261e1df183"
      },
      "execution_count": 29,
      "outputs": [
        {
          "output_type": "stream",
          "name": "stdout",
          "text": [
            "Q18:             count     sum     mean\n",
            "Department                        \n",
            "Finance         1   55000  55000.0\n",
            "HR              2  102000  51000.0\n",
            "IT              2  130000  65000.0\n"
          ]
        }
      ]
    },
    {
      "cell_type": "code",
      "source": [
        "# Q19. Sort by salary desc\n",
        "sorted_employees = employees.sort_values(by='Salary', ascending=False)\n",
        "print(\"Q19:\", sorted_employees)\n"
      ],
      "metadata": {
        "colab": {
          "base_uri": "https://localhost:8080/"
        },
        "id": "ujWNu3x4DTQd",
        "outputId": "22b9cded-5622-415a-bf09-68bdd80decb8"
      },
      "execution_count": 30,
      "outputs": [
        {
          "output_type": "stream",
          "name": "stdout",
          "text": [
            "Q19:    EmployeeID    Name Department  Salary JoiningDate  TenureInYears\n",
            "3           4    Sara         IT   70000  2023-05-19              2\n",
            "1           2    Neha         IT   60000  2022-01-10              3\n",
            "2           3    Ravi    Finance   55000  2020-07-23              5\n",
            "4           5  Vikram         HR   52000  2022-09-30              3\n",
            "0           1     Ali         HR   50000  2021-03-15              4\n"
          ]
        }
      ]
    },
    {
      "cell_type": "markdown",
      "source": [
        "Section 8: Joins & Merging"
      ],
      "metadata": {
        "id": "x5HpSegpDYrU"
      }
    },
    {
      "cell_type": "code",
      "source": [
        "# Q20. Merge for project allocations\n",
        "merged = pd.merge(employees, projects, on='EmployeeID', how='inner')\n",
        "print(\"Q20:\", merged)"
      ],
      "metadata": {
        "colab": {
          "base_uri": "https://localhost:8080/"
        },
        "id": "DGp_asSdDVRG",
        "outputId": "fa0d40f9-e8bf-4444-9fc2-80cd3dd8aed1"
      },
      "execution_count": 31,
      "outputs": [
        {
          "output_type": "stream",
          "name": "stdout",
          "text": [
            "Q20:    EmployeeID    Name Department  Salary JoiningDate  TenureInYears  \\\n",
            "0           2    Neha         IT   60000  2022-01-10              3   \n",
            "1           3    Ravi    Finance   55000  2020-07-23              5   \n",
            "2           3    Ravi    Finance   55000  2020-07-23              5   \n",
            "3           5  Vikram         HR   52000  2022-09-30              3   \n",
            "\n",
            "   ProjectID         ProjectName  HoursAllocated  \n",
            "0        101          AI Chatbot             120  \n",
            "1        102          ERP System             200  \n",
            "2        103  Payroll Automation             150  \n",
            "3        104     Cloud Migration             100  \n"
          ]
        }
      ]
    },
    {
      "cell_type": "code",
      "source": [
        "# Q21. Left join to find no-project employees\n",
        "left_join = pd.merge(employees, projects, on='EmployeeID', how='left')\n",
        "no_project = left_join[left_join['ProjectID'].isna()]\n",
        "print(\"Q21:\", no_project)"
      ],
      "metadata": {
        "colab": {
          "base_uri": "https://localhost:8080/"
        },
        "id": "XU0nC__MDVjV",
        "outputId": "19741df9-bf23-4e59-eb66-b573d56f421c"
      },
      "execution_count": 32,
      "outputs": [
        {
          "output_type": "stream",
          "name": "stdout",
          "text": [
            "Q21:    EmployeeID  Name Department  Salary JoiningDate  TenureInYears  ProjectID  \\\n",
            "0           1   Ali         HR   50000  2021-03-15              4        NaN   \n",
            "4           4  Sara         IT   70000  2023-05-19              2        NaN   \n",
            "\n",
            "  ProjectName  HoursAllocated  \n",
            "0         NaN             NaN  \n",
            "4         NaN             NaN  \n"
          ]
        }
      ]
    },
    {
      "cell_type": "code",
      "source": [
        "\n",
        "# Q22. Add TotalCost = HoursAllocated * (Salary / 160)\n",
        "merged['TotalCost'] = merged['HoursAllocated'] * (merged['Salary'] / 160)\n",
        "print(\"Q22:\", merged[['EmployeeID', 'ProjectName', 'TotalCost']])\n"
      ],
      "metadata": {
        "colab": {
          "base_uri": "https://localhost:8080/"
        },
        "id": "-ZpYGlrIDVmA",
        "outputId": "dd171e7f-ddb7-4eb0-8bb7-6f70dfd26312"
      },
      "execution_count": 33,
      "outputs": [
        {
          "output_type": "stream",
          "name": "stdout",
          "text": [
            "Q22:    EmployeeID         ProjectName  TotalCost\n",
            "0           2          AI Chatbot    45000.0\n",
            "1           3          ERP System    68750.0\n",
            "2           3  Payroll Automation    51562.5\n",
            "3           5     Cloud Migration    32500.0\n"
          ]
        }
      ]
    }
  ]
}
